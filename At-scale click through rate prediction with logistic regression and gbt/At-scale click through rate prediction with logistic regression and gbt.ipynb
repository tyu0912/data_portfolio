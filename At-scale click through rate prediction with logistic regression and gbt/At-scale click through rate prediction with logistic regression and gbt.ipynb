{
 "cells": [
  {
   "cell_type": "markdown",
   "metadata": {},
   "source": [
    "### At-scale click through rate prediction with logistic regression and gbt "
   ]
  },
  {
   "cell_type": "markdown",
   "metadata": {},
   "source": [
    "#### Introduction\n",
    "The purpose of this project is to build a classification model using Logistic Regression for Click Through Rate, CTR, using data provided by Criteo Labs as seen at https://www.kaggle.com/c/criteo-display-ad-challenge. More specifically, our aim will be to analyze the provided variables and create a set of transformations such that all together in the form of a model, can accurately predict whether or not a user has clicked or not clicked on a specific piece of advertisement. To do binary classification and from our review of literature and prior submissions on kaggle, logistic regression seems to be a popular choice. We mirror this approach and choose logistic regression as our main model because it is readily parallelizable, comprehensively simple, and again seems to have the most success within the research community. However, we are curious of other methods. As seen in this article: https://towardsdatascience.com/build-an-end-to-end-machine-learning-model-with-mllib-in-pyspark-4917bdf289c5, gradient boosted trees have found success in similar datasets where the labels may be unbalanced. A *question* we have is how do these methods compare in performance. Therefore, we use a similar approach to highlight this and contrast the results we achieve with that of our logistic results.\n",
    "\n",
    "We believe this exercise to be important for several reasons. Firstly, it is informative from a data science perspective to see how different algorithms perform. Secondly, at a higher level it is insightful to see what variables and in what form contribute most to a users preference to click and not click. Obviously, this has immense real-world applications. For instance, this insight would better inform marketers how to better tailor their ads for the general consumer. \n",
    "\n",
    "We use standard confusion matrix metrics as our evaluation tool. In particular, accuracy, recall, precision, and f1-score are important to us. Accuracy will give us a general sense of the matches however we want to be conscious of actual signal detection over any noise therefore recall and precision will also be an important metric for us. F1-score will give us a combined opinion in regards to both positive and negative labels. We look to both accuracy and f1-score as a high level indicator of our success. In additio\n",
    "\n",
    "__*The layout*__ of this report will be the creation of toy, train, and validation datasets followed by an Exploratory Data Analysis (EDA) where we present 2-3 potential problems. From the EDA, we will select the variables and prepare them for modeling through a series of transformations. This will then be fed into our algorithm and evaluated using the techniques as specified above. The algorithm is explained before it is ran. Feature engineering, modeling, and evaluation will be somewhat of an iterative process. This will be followed by a discussion, application of core concepts and concluding thoughts and recommendations. "
   ]
  },
  {
   "cell_type": "markdown",
   "metadata": {},
   "source": [
    "*This project was done by Praba Santhanakrishnan, Tennison Yu, Jonathan Zhou as part of the MIDS program. Please reference if this work is done to build on this.*"
   ]
  },
  {
   "cell_type": "markdown",
   "metadata": {},
   "source": [
    "#### Packages and Initial Instantiations"
   ]
  },
  {
   "cell_type": "code",
   "execution_count": 1,
   "metadata": {},
   "outputs": [],
   "source": [
    "import sys\n",
    "import re\n",
    "import ast\n",
    "import time\n",
    "import numpy as np\n",
    "import pandas as pd\n",
    "import matplotlib.pyplot as plt\n",
    "import seaborn as sns\n",
    "import random\n",
    "import os\n",
    "from pyspark.sql import SparkSession\n",
    "from pyspark.mllib.tree import GradientBoostedTrees, GradientBoostedTreesModel\n",
    "from pyspark.mllib.util import MLUtils\n",
    "from pyspark.mllib.regression import LabeledPoint\n",
    "from pyspark.mllib.classification import LogisticRegressionWithLBFGS\n",
    "from pyspark.mllib.evaluation import BinaryClassificationMetrics\n",
    "from IPython.display import display, HTML\n",
    "\n",
    "PWD = !pwd\n",
    "PWD = PWD[0]\n",
    "pd.set_option('display.max_columns', 500)"
   ]
  },
  {
   "cell_type": "code",
   "execution_count": 31,
   "metadata": {},
   "outputs": [],
   "source": [
    "%reload_ext autoreload\n",
    "%autoreload 2"
   ]
  },
  {
   "cell_type": "code",
   "execution_count": 3,
   "metadata": {},
   "outputs": [],
   "source": [
    "app_name = \"ctr_prediction\"\n",
    "master = \"local[*]\"\n",
    "spark = SparkSession.builder.appName(app_name).master(master).getOrCreate()\n",
    "sc = spark.sparkContext"
   ]
  },
  {
   "cell_type": "code",
   "execution_count": 33,
   "metadata": {},
   "outputs": [],
   "source": [
    "# Reading the created toy/test dataset.\n",
    "toy = pd.read_csv('test_data/toydata.txt', sep ='\\t', header=None)\n",
    "train = pd.read_csv('test_data/testdata.txt', sep ='\\t', header=None)\n",
    "val = pd.read_csv('test_data/valdata.txt', sep ='\\t', header=None)\n",
    "#fullTrain = pd.read_csv('data/train.txt', sep ='\\t', header=None)"
   ]
  },
  {
   "cell_type": "code",
   "execution_count": 4,
   "metadata": {},
   "outputs": [],
   "source": [
    "# Load data locally\n",
    "fullTrainRDD = sc.textFile('data/train.txt')\n",
    "sampleTrainRDD = sc.textFile('test_data/testdata.txt')\n",
    "valRDD = sc.textFile('test_data/valdata.txt')\n",
    "toyRDD = sc.textFile('test_data/toydata.txt')"
   ]
  },
  {
   "cell_type": "markdown",
   "metadata": {},
   "source": [
    "#### Preparing Sample Datasets"
   ]
  },
  {
   "cell_type": "code",
   "execution_count": null,
   "metadata": {},
   "outputs": [],
   "source": [
    "# This function is used to sample k rows randomly from the initial file.\n",
    "def random_sampler(filename, k):\n",
    "    sample = []\n",
    "    \n",
    "    with open(filename, 'rb') as f:\n",
    "        f.seek(0, 2)\n",
    "        filesize = f.tell()\n",
    "        random_set = sorted(random.sample(range(filesize), k))\n",
    "\n",
    "        for i in range(k):\n",
    "            f.seek(random_set[i])\n",
    "            f.readline() # Skip current line (because we might be in the middle of a line)   \n",
    "            sample.append(f.readline()) # Append the next line to the sample set \n",
    "\n",
    "    return sample"
   ]
  },
  {
   "cell_type": "code",
   "execution_count": null,
   "metadata": {},
   "outputs": [],
   "source": [
    "test_sample = random_sampler(PWD + '/data/train.txt', 10000)\n",
    "f = open(PWD + '/test_data/testdata.txt', 'w')\n",
    "f.writelines([\"%s\" % item.decode(\"utf-8\")  for item in test_sample])\n",
    "\n",
    "val_sample = random_sampler(PWD + '/data/train.txt', 2000)\n",
    "f = open(PWD + '/test_data/valdata.txt', 'w')\n",
    "f.writelines([\"%s\" % item.decode(\"utf-8\")  for item in val_sample])\n",
    "\n",
    "toy_sample = random_sampler(PWD + '/data/train.txt', 100)\n",
    "f = open(PWD + '/test_data/toydata.txt', 'w')\n",
    "f.writelines([\"%s\" % item.decode(\"utf-8\")  for item in toy_sample])"
   ]
  },
  {
   "cell_type": "code",
   "execution_count": 23,
   "metadata": {
    "scrolled": true
   },
   "outputs": [
    {
     "name": "stdout",
     "output_type": "stream",
     "text": [
      "100 test_data/toydata.txt\n",
      "10000 test_data/testdata.txt\n",
      "2000 test_data/valdata.txt\n"
     ]
    }
   ],
   "source": [
    "!wc -l test_data/toydata.txt\n",
    "!wc -l test_data/testdata.txt\n",
    "!wc -l test_data/valdata.txt"
   ]
  },
  {
   "cell_type": "markdown",
   "metadata": {},
   "source": [
    "Each of these sets were created from the original dataset named **train.txt**. Given the number of rows in the above line count everything seems to have been created successfully. Note that the original dataset may not be in the github repo due to its size. We also note here that because it is not required to submit our results to www.kaggle.com the provided **test.txt** was not used.\n",
    "\n",
    "The purpose of the toy set will be for simple development and troubleshooting. The purpose of the train set will be to do exploratory data analysis, make initial decisions off of, and to train models on. The purpose of the validation dataset is to verify the models that we've trained."
   ]
  },
  {
   "cell_type": "markdown",
   "metadata": {},
   "source": [
    "#### General Exploratory Data Analysis (EDA)\n",
    "\n",
    "From this point onward we will use the test dataset to explore the data for any standout features. Much of the initial exploratory analysis will be done mostly using pandas dataframes."
   ]
  },
  {
   "cell_type": "code",
   "execution_count": 24,
   "metadata": {},
   "outputs": [
    {
     "data": {
      "text/html": [
       "<div>\n",
       "<style scoped>\n",
       "    .dataframe tbody tr th:only-of-type {\n",
       "        vertical-align: middle;\n",
       "    }\n",
       "\n",
       "    .dataframe tbody tr th {\n",
       "        vertical-align: top;\n",
       "    }\n",
       "\n",
       "    .dataframe thead th {\n",
       "        text-align: right;\n",
       "    }\n",
       "</style>\n",
       "<table border=\"1\" class=\"dataframe\">\n",
       "  <thead>\n",
       "    <tr style=\"text-align: right;\">\n",
       "      <th></th>\n",
       "      <th>0</th>\n",
       "      <th>1</th>\n",
       "      <th>2</th>\n",
       "      <th>3</th>\n",
       "      <th>4</th>\n",
       "      <th>5</th>\n",
       "      <th>6</th>\n",
       "      <th>7</th>\n",
       "      <th>8</th>\n",
       "      <th>9</th>\n",
       "      <th>10</th>\n",
       "      <th>11</th>\n",
       "      <th>12</th>\n",
       "      <th>13</th>\n",
       "      <th>14</th>\n",
       "      <th>15</th>\n",
       "      <th>16</th>\n",
       "      <th>17</th>\n",
       "      <th>18</th>\n",
       "      <th>19</th>\n",
       "      <th>20</th>\n",
       "      <th>21</th>\n",
       "      <th>22</th>\n",
       "      <th>23</th>\n",
       "      <th>24</th>\n",
       "      <th>25</th>\n",
       "      <th>26</th>\n",
       "      <th>27</th>\n",
       "      <th>28</th>\n",
       "      <th>29</th>\n",
       "      <th>30</th>\n",
       "      <th>31</th>\n",
       "      <th>32</th>\n",
       "      <th>33</th>\n",
       "      <th>34</th>\n",
       "      <th>35</th>\n",
       "      <th>36</th>\n",
       "      <th>37</th>\n",
       "      <th>38</th>\n",
       "      <th>39</th>\n",
       "    </tr>\n",
       "  </thead>\n",
       "  <tbody>\n",
       "    <tr>\n",
       "      <th>0</th>\n",
       "      <td>1</td>\n",
       "      <td>NaN</td>\n",
       "      <td>0</td>\n",
       "      <td>6.0</td>\n",
       "      <td>3.0</td>\n",
       "      <td>885.0</td>\n",
       "      <td>NaN</td>\n",
       "      <td>0.0</td>\n",
       "      <td>3.0</td>\n",
       "      <td>3.0</td>\n",
       "      <td>NaN</td>\n",
       "      <td>0.0</td>\n",
       "      <td>NaN</td>\n",
       "      <td>3.0</td>\n",
       "      <td>87552397</td>\n",
       "      <td>287130e0</td>\n",
       "      <td>817ffd64</td>\n",
       "      <td>2d9ebdbb</td>\n",
       "      <td>4cf72387</td>\n",
       "      <td>7e0ccccf</td>\n",
       "      <td>74f39215</td>\n",
       "      <td>37e4aa92</td>\n",
       "      <td>a73ee510</td>\n",
       "      <td>3b08e48b</td>\n",
       "      <td>294d16d7</td>\n",
       "      <td>a63fcb59</td>\n",
       "      <td>fa17cc68</td>\n",
       "      <td>07d13a8f</td>\n",
       "      <td>10040656</td>\n",
       "      <td>f10cfb5c</td>\n",
       "      <td>776ce399</td>\n",
       "      <td>891589e7</td>\n",
       "      <td>f30f7842</td>\n",
       "      <td>a458ea53</td>\n",
       "      <td>6a0f346c</td>\n",
       "      <td>NaN</td>\n",
       "      <td>be7c41b4</td>\n",
       "      <td>6b4edae7</td>\n",
       "      <td>46fbac64</td>\n",
       "      <td>8379ffe4</td>\n",
       "    </tr>\n",
       "    <tr>\n",
       "      <th>1</th>\n",
       "      <td>0</td>\n",
       "      <td>0.0</td>\n",
       "      <td>95</td>\n",
       "      <td>8.0</td>\n",
       "      <td>11.0</td>\n",
       "      <td>1546.0</td>\n",
       "      <td>83.0</td>\n",
       "      <td>2.0</td>\n",
       "      <td>16.0</td>\n",
       "      <td>77.0</td>\n",
       "      <td>0.0</td>\n",
       "      <td>2.0</td>\n",
       "      <td>NaN</td>\n",
       "      <td>11.0</td>\n",
       "      <td>05db9164</td>\n",
       "      <td>95e2d337</td>\n",
       "      <td>0a1435c1</td>\n",
       "      <td>bdcfffba</td>\n",
       "      <td>25c83c98</td>\n",
       "      <td>7e0ccccf</td>\n",
       "      <td>4feec62c</td>\n",
       "      <td>5b392875</td>\n",
       "      <td>a73ee510</td>\n",
       "      <td>3b08e48b</td>\n",
       "      <td>37fba4a7</td>\n",
       "      <td>5a276398</td>\n",
       "      <td>0fd466ce</td>\n",
       "      <td>b28479f6</td>\n",
       "      <td>c57dc31f</td>\n",
       "      <td>4da40ea2</td>\n",
       "      <td>07c540c4</td>\n",
       "      <td>e1b6ea80</td>\n",
       "      <td>21ddcdc9</td>\n",
       "      <td>5840adea</td>\n",
       "      <td>290c14f6</td>\n",
       "      <td>NaN</td>\n",
       "      <td>32c7478e</td>\n",
       "      <td>ded4aac9</td>\n",
       "      <td>2bf691b1</td>\n",
       "      <td>bdf46dce</td>\n",
       "    </tr>\n",
       "    <tr>\n",
       "      <th>2</th>\n",
       "      <td>0</td>\n",
       "      <td>NaN</td>\n",
       "      <td>95</td>\n",
       "      <td>1.0</td>\n",
       "      <td>1.0</td>\n",
       "      <td>3237.0</td>\n",
       "      <td>6.0</td>\n",
       "      <td>6.0</td>\n",
       "      <td>4.0</td>\n",
       "      <td>5.0</td>\n",
       "      <td>NaN</td>\n",
       "      <td>1.0</td>\n",
       "      <td>NaN</td>\n",
       "      <td>1.0</td>\n",
       "      <td>fb056015</td>\n",
       "      <td>5dac953d</td>\n",
       "      <td>d032c263</td>\n",
       "      <td>c18be181</td>\n",
       "      <td>25c83c98</td>\n",
       "      <td>7e0ccccf</td>\n",
       "      <td>1327309b</td>\n",
       "      <td>5b392875</td>\n",
       "      <td>a73ee510</td>\n",
       "      <td>0a197c54</td>\n",
       "      <td>fd0ccae7</td>\n",
       "      <td>dfbb09fb</td>\n",
       "      <td>17531d4f</td>\n",
       "      <td>1adce6ef</td>\n",
       "      <td>dd72d95b</td>\n",
       "      <td>84898b2a</td>\n",
       "      <td>e5ba7672</td>\n",
       "      <td>2c98cd83</td>\n",
       "      <td>NaN</td>\n",
       "      <td>NaN</td>\n",
       "      <td>0014c32a</td>\n",
       "      <td>NaN</td>\n",
       "      <td>3a171ecb</td>\n",
       "      <td>3b183c5c</td>\n",
       "      <td>NaN</td>\n",
       "      <td>NaN</td>\n",
       "    </tr>\n",
       "  </tbody>\n",
       "</table>\n",
       "</div>"
      ],
      "text/plain": [
       "   0    1   2    3     4       5     6    7     8     9    10   11  12    13  \\\n",
       "0   1  NaN   0  6.0   3.0   885.0   NaN  0.0   3.0   3.0  NaN  0.0 NaN   3.0   \n",
       "1   0  0.0  95  8.0  11.0  1546.0  83.0  2.0  16.0  77.0  0.0  2.0 NaN  11.0   \n",
       "2   0  NaN  95  1.0   1.0  3237.0   6.0  6.0   4.0   5.0  NaN  1.0 NaN   1.0   \n",
       "\n",
       "         14        15        16        17        18        19        20  \\\n",
       "0  87552397  287130e0  817ffd64  2d9ebdbb  4cf72387  7e0ccccf  74f39215   \n",
       "1  05db9164  95e2d337  0a1435c1  bdcfffba  25c83c98  7e0ccccf  4feec62c   \n",
       "2  fb056015  5dac953d  d032c263  c18be181  25c83c98  7e0ccccf  1327309b   \n",
       "\n",
       "         21        22        23        24        25        26        27  \\\n",
       "0  37e4aa92  a73ee510  3b08e48b  294d16d7  a63fcb59  fa17cc68  07d13a8f   \n",
       "1  5b392875  a73ee510  3b08e48b  37fba4a7  5a276398  0fd466ce  b28479f6   \n",
       "2  5b392875  a73ee510  0a197c54  fd0ccae7  dfbb09fb  17531d4f  1adce6ef   \n",
       "\n",
       "         28        29        30        31        32        33        34   35  \\\n",
       "0  10040656  f10cfb5c  776ce399  891589e7  f30f7842  a458ea53  6a0f346c  NaN   \n",
       "1  c57dc31f  4da40ea2  07c540c4  e1b6ea80  21ddcdc9  5840adea  290c14f6  NaN   \n",
       "2  dd72d95b  84898b2a  e5ba7672  2c98cd83       NaN       NaN  0014c32a  NaN   \n",
       "\n",
       "         36        37        38        39  \n",
       "0  be7c41b4  6b4edae7  46fbac64  8379ffe4  \n",
       "1  32c7478e  ded4aac9  2bf691b1  bdf46dce  \n",
       "2  3a171ecb  3b183c5c       NaN       NaN  "
      ]
     },
     "execution_count": 24,
     "metadata": {},
     "output_type": "execute_result"
    }
   ],
   "source": [
    "train.head(3)"
   ]
  },
  {
   "cell_type": "markdown",
   "metadata": {},
   "source": [
    "The dataset appears to contain the labels in the first column, followed by a series of columns with integer values and then a series of anonymized categorical columns as well. This seems to correspond to the provided data description on the kaggle link mentioned previously. Its mentioned that there would be 13 columns of integer data and 26 of categorical data. This is further validated using code 1 in the appendix which shows the data type of each column. The first 13 are either integer or floats whereas the next 26 are objects.\n",
    "\n",
    "Notable as well is the number of null/NaN values throughout the dataset. The extent of this is something useful to check since it could impact which features may be important."
   ]
  },
  {
   "cell_type": "code",
   "execution_count": 41,
   "metadata": {},
   "outputs": [
    {
     "data": {
      "text/html": [
       "<div>\n",
       "<style scoped>\n",
       "    .dataframe tbody tr th:only-of-type {\n",
       "        vertical-align: middle;\n",
       "    }\n",
       "\n",
       "    .dataframe tbody tr th {\n",
       "        vertical-align: top;\n",
       "    }\n",
       "\n",
       "    .dataframe thead th {\n",
       "        text-align: right;\n",
       "    }\n",
       "</style>\n",
       "<table border=\"1\" class=\"dataframe\">\n",
       "  <thead>\n",
       "    <tr style=\"text-align: right;\">\n",
       "      <th></th>\n",
       "      <th>0</th>\n",
       "      <th>1</th>\n",
       "      <th>2</th>\n",
       "      <th>3</th>\n",
       "      <th>4</th>\n",
       "      <th>5</th>\n",
       "      <th>6</th>\n",
       "      <th>7</th>\n",
       "      <th>8</th>\n",
       "      <th>9</th>\n",
       "      <th>10</th>\n",
       "      <th>11</th>\n",
       "      <th>12</th>\n",
       "      <th>13</th>\n",
       "      <th>14</th>\n",
       "      <th>15</th>\n",
       "      <th>16</th>\n",
       "      <th>17</th>\n",
       "      <th>18</th>\n",
       "      <th>19</th>\n",
       "      <th>20</th>\n",
       "      <th>21</th>\n",
       "      <th>22</th>\n",
       "      <th>23</th>\n",
       "      <th>24</th>\n",
       "      <th>25</th>\n",
       "      <th>26</th>\n",
       "      <th>27</th>\n",
       "      <th>28</th>\n",
       "      <th>29</th>\n",
       "      <th>30</th>\n",
       "      <th>31</th>\n",
       "      <th>32</th>\n",
       "      <th>33</th>\n",
       "      <th>34</th>\n",
       "      <th>35</th>\n",
       "      <th>36</th>\n",
       "      <th>37</th>\n",
       "      <th>38</th>\n",
       "      <th>39</th>\n",
       "    </tr>\n",
       "  </thead>\n",
       "  <tbody>\n",
       "    <tr>\n",
       "      <th>Number Nulls</th>\n",
       "      <td>0.0</td>\n",
       "      <td>4546.000</td>\n",
       "      <td>0.0</td>\n",
       "      <td>2096.00</td>\n",
       "      <td>2120.000</td>\n",
       "      <td>276.000</td>\n",
       "      <td>2234.000</td>\n",
       "      <td>419.000</td>\n",
       "      <td>6.000</td>\n",
       "      <td>419.000</td>\n",
       "      <td>4546.000</td>\n",
       "      <td>419.000</td>\n",
       "      <td>7705.00</td>\n",
       "      <td>2120.000</td>\n",
       "      <td>0.0</td>\n",
       "      <td>0.0</td>\n",
       "      <td>349.000</td>\n",
       "      <td>349.000</td>\n",
       "      <td>0.0</td>\n",
       "      <td>1248.000</td>\n",
       "      <td>0.0</td>\n",
       "      <td>0.0</td>\n",
       "      <td>0.0</td>\n",
       "      <td>0.0</td>\n",
       "      <td>0.0</td>\n",
       "      <td>349.000</td>\n",
       "      <td>0.0</td>\n",
       "      <td>0.0</td>\n",
       "      <td>0.0</td>\n",
       "      <td>349.000</td>\n",
       "      <td>0.0</td>\n",
       "      <td>0.0</td>\n",
       "      <td>4380.000</td>\n",
       "      <td>4380.000</td>\n",
       "      <td>349.000</td>\n",
       "      <td>7603.00</td>\n",
       "      <td>0.0</td>\n",
       "      <td>349.000</td>\n",
       "      <td>4380.000</td>\n",
       "      <td>4380.000</td>\n",
       "    </tr>\n",
       "    <tr>\n",
       "      <th>Number Non-Nulls</th>\n",
       "      <td>10000.0</td>\n",
       "      <td>5454.000</td>\n",
       "      <td>10000.0</td>\n",
       "      <td>7904.00</td>\n",
       "      <td>7880.000</td>\n",
       "      <td>9724.000</td>\n",
       "      <td>7766.000</td>\n",
       "      <td>9581.000</td>\n",
       "      <td>9994.000</td>\n",
       "      <td>9581.000</td>\n",
       "      <td>5454.000</td>\n",
       "      <td>9581.000</td>\n",
       "      <td>2295.00</td>\n",
       "      <td>7880.000</td>\n",
       "      <td>10000.0</td>\n",
       "      <td>10000.0</td>\n",
       "      <td>9651.000</td>\n",
       "      <td>9651.000</td>\n",
       "      <td>10000.0</td>\n",
       "      <td>8752.000</td>\n",
       "      <td>10000.0</td>\n",
       "      <td>10000.0</td>\n",
       "      <td>10000.0</td>\n",
       "      <td>10000.0</td>\n",
       "      <td>10000.0</td>\n",
       "      <td>9651.000</td>\n",
       "      <td>10000.0</td>\n",
       "      <td>10000.0</td>\n",
       "      <td>10000.0</td>\n",
       "      <td>9651.000</td>\n",
       "      <td>10000.0</td>\n",
       "      <td>10000.0</td>\n",
       "      <td>5620.000</td>\n",
       "      <td>5620.000</td>\n",
       "      <td>9651.000</td>\n",
       "      <td>2397.00</td>\n",
       "      <td>10000.0</td>\n",
       "      <td>9651.000</td>\n",
       "      <td>5620.000</td>\n",
       "      <td>5620.000</td>\n",
       "    </tr>\n",
       "    <tr>\n",
       "      <th>Null Percent</th>\n",
       "      <td>0.0</td>\n",
       "      <td>0.455</td>\n",
       "      <td>0.0</td>\n",
       "      <td>0.21</td>\n",
       "      <td>0.212</td>\n",
       "      <td>0.028</td>\n",
       "      <td>0.223</td>\n",
       "      <td>0.042</td>\n",
       "      <td>0.001</td>\n",
       "      <td>0.042</td>\n",
       "      <td>0.455</td>\n",
       "      <td>0.042</td>\n",
       "      <td>0.77</td>\n",
       "      <td>0.212</td>\n",
       "      <td>0.0</td>\n",
       "      <td>0.0</td>\n",
       "      <td>0.035</td>\n",
       "      <td>0.035</td>\n",
       "      <td>0.0</td>\n",
       "      <td>0.125</td>\n",
       "      <td>0.0</td>\n",
       "      <td>0.0</td>\n",
       "      <td>0.0</td>\n",
       "      <td>0.0</td>\n",
       "      <td>0.0</td>\n",
       "      <td>0.035</td>\n",
       "      <td>0.0</td>\n",
       "      <td>0.0</td>\n",
       "      <td>0.0</td>\n",
       "      <td>0.035</td>\n",
       "      <td>0.0</td>\n",
       "      <td>0.0</td>\n",
       "      <td>0.438</td>\n",
       "      <td>0.438</td>\n",
       "      <td>0.035</td>\n",
       "      <td>0.76</td>\n",
       "      <td>0.0</td>\n",
       "      <td>0.035</td>\n",
       "      <td>0.438</td>\n",
       "      <td>0.438</td>\n",
       "    </tr>\n",
       "  </tbody>\n",
       "</table>\n",
       "</div>"
      ],
      "text/plain": [
       "                       0         1        2        3         4         5   \\\n",
       "Number Nulls          0.0  4546.000      0.0  2096.00  2120.000   276.000   \n",
       "Number Non-Nulls  10000.0  5454.000  10000.0  7904.00  7880.000  9724.000   \n",
       "Null Percent          0.0     0.455      0.0     0.21     0.212     0.028   \n",
       "\n",
       "                        6         7         8         9         10        11  \\\n",
       "Number Nulls      2234.000   419.000     6.000   419.000  4546.000   419.000   \n",
       "Number Non-Nulls  7766.000  9581.000  9994.000  9581.000  5454.000  9581.000   \n",
       "Null Percent         0.223     0.042     0.001     0.042     0.455     0.042   \n",
       "\n",
       "                       12        13       14       15        16        17  \\\n",
       "Number Nulls      7705.00  2120.000      0.0      0.0   349.000   349.000   \n",
       "Number Non-Nulls  2295.00  7880.000  10000.0  10000.0  9651.000  9651.000   \n",
       "Null Percent         0.77     0.212      0.0      0.0     0.035     0.035   \n",
       "\n",
       "                       18        19       20       21       22       23  \\\n",
       "Number Nulls          0.0  1248.000      0.0      0.0      0.0      0.0   \n",
       "Number Non-Nulls  10000.0  8752.000  10000.0  10000.0  10000.0  10000.0   \n",
       "Null Percent          0.0     0.125      0.0      0.0      0.0      0.0   \n",
       "\n",
       "                       24        25       26       27       28        29  \\\n",
       "Number Nulls          0.0   349.000      0.0      0.0      0.0   349.000   \n",
       "Number Non-Nulls  10000.0  9651.000  10000.0  10000.0  10000.0  9651.000   \n",
       "Null Percent          0.0     0.035      0.0      0.0      0.0     0.035   \n",
       "\n",
       "                       30       31        32        33        34       35  \\\n",
       "Number Nulls          0.0      0.0  4380.000  4380.000   349.000  7603.00   \n",
       "Number Non-Nulls  10000.0  10000.0  5620.000  5620.000  9651.000  2397.00   \n",
       "Null Percent          0.0      0.0     0.438     0.438     0.035     0.76   \n",
       "\n",
       "                       36        37        38        39  \n",
       "Number Nulls          0.0   349.000  4380.000  4380.000  \n",
       "Number Non-Nulls  10000.0  9651.000  5620.000  5620.000  \n",
       "Null Percent          0.0     0.035     0.438     0.438  "
      ]
     },
     "execution_count": 41,
     "metadata": {},
     "output_type": "execute_result"
    }
   ],
   "source": [
    "# Sum up the number of nulls and find the percentage\n",
    "traindf = pd.DataFrame(train.isnull().sum(axis = 0)).transpose()\n",
    "traindf.index = ['Number Nulls']\n",
    "traindf.loc['Number Non-Nulls'] = train.shape[0] - traindf.loc['Number Nulls']\n",
    "traindf.loc['Null Percent'] = round(traindf.loc['Number Nulls']/train.shape[0],3)\n",
    "traindf"
   ]
  },
  {
   "cell_type": "markdown",
   "metadata": {},
   "source": [
    "Here, the train case shows that the number of nulls can very greatly depending on the column. For instance, column 12 and 35's null values make up >75% of the data. This is quite staggering since it raises challenges of backfilling and what features like this could mean. This is especially true for categorical variables since its anonymized. This leads us to a related question which is if all the data points are unique. "
   ]
  },
  {
   "cell_type": "code",
   "execution_count": 27,
   "metadata": {},
   "outputs": [
    {
     "data": {
      "text/html": [
       "<div>\n",
       "<style scoped>\n",
       "    .dataframe tbody tr th:only-of-type {\n",
       "        vertical-align: middle;\n",
       "    }\n",
       "\n",
       "    .dataframe tbody tr th {\n",
       "        vertical-align: top;\n",
       "    }\n",
       "\n",
       "    .dataframe thead th {\n",
       "        text-align: right;\n",
       "    }\n",
       "</style>\n",
       "<table border=\"1\" class=\"dataframe\">\n",
       "  <thead>\n",
       "    <tr style=\"text-align: right;\">\n",
       "      <th></th>\n",
       "      <th>0</th>\n",
       "      <th>1</th>\n",
       "      <th>2</th>\n",
       "      <th>3</th>\n",
       "      <th>4</th>\n",
       "      <th>5</th>\n",
       "      <th>6</th>\n",
       "      <th>7</th>\n",
       "      <th>8</th>\n",
       "      <th>9</th>\n",
       "      <th>10</th>\n",
       "      <th>11</th>\n",
       "      <th>12</th>\n",
       "      <th>13</th>\n",
       "      <th>14</th>\n",
       "      <th>15</th>\n",
       "      <th>16</th>\n",
       "      <th>17</th>\n",
       "      <th>18</th>\n",
       "      <th>19</th>\n",
       "      <th>20</th>\n",
       "      <th>21</th>\n",
       "      <th>22</th>\n",
       "      <th>23</th>\n",
       "      <th>24</th>\n",
       "      <th>25</th>\n",
       "      <th>26</th>\n",
       "      <th>27</th>\n",
       "      <th>28</th>\n",
       "      <th>29</th>\n",
       "      <th>30</th>\n",
       "      <th>31</th>\n",
       "      <th>32</th>\n",
       "      <th>33</th>\n",
       "      <th>34</th>\n",
       "      <th>35</th>\n",
       "      <th>36</th>\n",
       "      <th>37</th>\n",
       "      <th>38</th>\n",
       "      <th>39</th>\n",
       "    </tr>\n",
       "  </thead>\n",
       "  <tbody>\n",
       "    <tr>\n",
       "      <th>Number Distinct</th>\n",
       "      <td>2.0</td>\n",
       "      <td>71.000</td>\n",
       "      <td>853.000</td>\n",
       "      <td>273.000</td>\n",
       "      <td>63.000</td>\n",
       "      <td>5503.00</td>\n",
       "      <td>753.000</td>\n",
       "      <td>281.000</td>\n",
       "      <td>58.000</td>\n",
       "      <td>770.000</td>\n",
       "      <td>6.000</td>\n",
       "      <td>56.000</td>\n",
       "      <td>33.000</td>\n",
       "      <td>91.000</td>\n",
       "      <td>175.000</td>\n",
       "      <td>392.000</td>\n",
       "      <td>5954.000</td>\n",
       "      <td>4225.000</td>\n",
       "      <td>57.000</td>\n",
       "      <td>8.000</td>\n",
       "      <td>3358.000</td>\n",
       "      <td>100.00</td>\n",
       "      <td>3.0</td>\n",
       "      <td>3309.000</td>\n",
       "      <td>2172.000</td>\n",
       "      <td>5601.00</td>\n",
       "      <td>1812.000</td>\n",
       "      <td>24.000</td>\n",
       "      <td>2140.000</td>\n",
       "      <td>5020.000</td>\n",
       "      <td>9.000</td>\n",
       "      <td>1238.000</td>\n",
       "      <td>545.000</td>\n",
       "      <td>3.0</td>\n",
       "      <td>5329.000</td>\n",
       "      <td>8.000</td>\n",
       "      <td>15.000</td>\n",
       "      <td>2662.000</td>\n",
       "      <td>39.000</td>\n",
       "      <td>2012.000</td>\n",
       "    </tr>\n",
       "    <tr>\n",
       "      <th>Distinct Percent</th>\n",
       "      <td>0.0</td>\n",
       "      <td>0.007</td>\n",
       "      <td>0.085</td>\n",
       "      <td>0.027</td>\n",
       "      <td>0.006</td>\n",
       "      <td>0.55</td>\n",
       "      <td>0.075</td>\n",
       "      <td>0.028</td>\n",
       "      <td>0.006</td>\n",
       "      <td>0.077</td>\n",
       "      <td>0.001</td>\n",
       "      <td>0.006</td>\n",
       "      <td>0.003</td>\n",
       "      <td>0.009</td>\n",
       "      <td>0.018</td>\n",
       "      <td>0.039</td>\n",
       "      <td>0.595</td>\n",
       "      <td>0.422</td>\n",
       "      <td>0.006</td>\n",
       "      <td>0.001</td>\n",
       "      <td>0.336</td>\n",
       "      <td>0.01</td>\n",
       "      <td>0.0</td>\n",
       "      <td>0.331</td>\n",
       "      <td>0.217</td>\n",
       "      <td>0.56</td>\n",
       "      <td>0.181</td>\n",
       "      <td>0.002</td>\n",
       "      <td>0.214</td>\n",
       "      <td>0.502</td>\n",
       "      <td>0.001</td>\n",
       "      <td>0.124</td>\n",
       "      <td>0.054</td>\n",
       "      <td>0.0</td>\n",
       "      <td>0.533</td>\n",
       "      <td>0.001</td>\n",
       "      <td>0.002</td>\n",
       "      <td>0.266</td>\n",
       "      <td>0.004</td>\n",
       "      <td>0.201</td>\n",
       "    </tr>\n",
       "  </tbody>\n",
       "</table>\n",
       "</div>"
      ],
      "text/plain": [
       "                   0       1        2        3       4        5        6   \\\n",
       "Number Distinct   2.0  71.000  853.000  273.000  63.000  5503.00  753.000   \n",
       "Distinct Percent  0.0   0.007    0.085    0.027   0.006     0.55    0.075   \n",
       "\n",
       "                       7       8        9      10      11      12      13  \\\n",
       "Number Distinct   281.000  58.000  770.000  6.000  56.000  33.000  91.000   \n",
       "Distinct Percent    0.028   0.006    0.077  0.001   0.006   0.003   0.009   \n",
       "\n",
       "                       14       15        16        17      18     19  \\\n",
       "Number Distinct   175.000  392.000  5954.000  4225.000  57.000  8.000   \n",
       "Distinct Percent    0.018    0.039     0.595     0.422   0.006  0.001   \n",
       "\n",
       "                        20      21   22        23        24       25  \\\n",
       "Number Distinct   3358.000  100.00  3.0  3309.000  2172.000  5601.00   \n",
       "Distinct Percent     0.336    0.01  0.0     0.331     0.217     0.56   \n",
       "\n",
       "                        26      27        28        29     30        31  \\\n",
       "Number Distinct   1812.000  24.000  2140.000  5020.000  9.000  1238.000   \n",
       "Distinct Percent     0.181   0.002     0.214     0.502  0.001     0.124   \n",
       "\n",
       "                       32   33        34     35      36        37      38  \\\n",
       "Number Distinct   545.000  3.0  5329.000  8.000  15.000  2662.000  39.000   \n",
       "Distinct Percent    0.054  0.0     0.533  0.001   0.002     0.266   0.004   \n",
       "\n",
       "                        39  \n",
       "Number Distinct   2012.000  \n",
       "Distinct Percent     0.201  "
      ]
     },
     "execution_count": 27,
     "metadata": {},
     "output_type": "execute_result"
    }
   ],
   "source": [
    "# Sum up the number of distinct and find the percentage\n",
    "traindf = pd.DataFrame(train.nunique()).transpose()\n",
    "traindf.index = ['Number Distinct']\n",
    "traindf.loc['Distinct Percent'] = round(traindf.loc['Number Distinct']/train.shape[0],3)\n",
    "traindf"
   ]
  },
  {
   "cell_type": "markdown",
   "metadata": {},
   "source": [
    "Looking at the data, there is a range of uniqueness within the data. Looking at the train data specifically, column 16 has many different unique values whereas column 33 likely only has a couple unique values."
   ]
  },
  {
   "cell_type": "markdown",
   "metadata": {},
   "source": [
    "#### Numerical Exploratory Data Analysis"
   ]
  },
  {
   "cell_type": "code",
   "execution_count": 28,
   "metadata": {},
   "outputs": [
    {
     "data": {
      "text/html": [
       "<div>\n",
       "<style scoped>\n",
       "    .dataframe tbody tr th:only-of-type {\n",
       "        vertical-align: middle;\n",
       "    }\n",
       "\n",
       "    .dataframe tbody tr th {\n",
       "        vertical-align: top;\n",
       "    }\n",
       "\n",
       "    .dataframe thead th {\n",
       "        text-align: right;\n",
       "    }\n",
       "</style>\n",
       "<table border=\"1\" class=\"dataframe\">\n",
       "  <thead>\n",
       "    <tr style=\"text-align: right;\">\n",
       "      <th></th>\n",
       "      <th>0</th>\n",
       "      <th>1</th>\n",
       "      <th>2</th>\n",
       "      <th>3</th>\n",
       "      <th>4</th>\n",
       "      <th>5</th>\n",
       "      <th>6</th>\n",
       "      <th>7</th>\n",
       "      <th>8</th>\n",
       "      <th>9</th>\n",
       "      <th>10</th>\n",
       "      <th>11</th>\n",
       "      <th>12</th>\n",
       "      <th>13</th>\n",
       "    </tr>\n",
       "  </thead>\n",
       "  <tbody>\n",
       "    <tr>\n",
       "      <th>count</th>\n",
       "      <td>10000.000000</td>\n",
       "      <td>5454.000000</td>\n",
       "      <td>10000.000000</td>\n",
       "      <td>7904.000000</td>\n",
       "      <td>7880.000000</td>\n",
       "      <td>9.724000e+03</td>\n",
       "      <td>7766.000000</td>\n",
       "      <td>9581.000000</td>\n",
       "      <td>9994.000000</td>\n",
       "      <td>9581.000000</td>\n",
       "      <td>5454.000000</td>\n",
       "      <td>9581.000000</td>\n",
       "      <td>2295.000000</td>\n",
       "      <td>7880.000000</td>\n",
       "    </tr>\n",
       "    <tr>\n",
       "      <th>mean</th>\n",
       "      <td>0.258400</td>\n",
       "      <td>3.359919</td>\n",
       "      <td>104.882200</td>\n",
       "      <td>26.452050</td>\n",
       "      <td>7.248350</td>\n",
       "      <td>1.934517e+04</td>\n",
       "      <td>114.607520</td>\n",
       "      <td>16.339944</td>\n",
       "      <td>12.482890</td>\n",
       "      <td>106.816721</td>\n",
       "      <td>0.614228</td>\n",
       "      <td>2.679261</td>\n",
       "      <td>1.042702</td>\n",
       "      <td>8.149746</td>\n",
       "    </tr>\n",
       "    <tr>\n",
       "      <th>std</th>\n",
       "      <td>0.437777</td>\n",
       "      <td>8.216898</td>\n",
       "      <td>389.837031</td>\n",
       "      <td>232.085426</td>\n",
       "      <td>8.537747</td>\n",
       "      <td>7.187803e+04</td>\n",
       "      <td>326.166845</td>\n",
       "      <td>64.001228</td>\n",
       "      <td>13.418263</td>\n",
       "      <td>234.186625</td>\n",
       "      <td>0.683882</td>\n",
       "      <td>5.015939</td>\n",
       "      <td>5.468457</td>\n",
       "      <td>11.397965</td>\n",
       "    </tr>\n",
       "    <tr>\n",
       "      <th>min</th>\n",
       "      <td>0.000000</td>\n",
       "      <td>0.000000</td>\n",
       "      <td>-2.000000</td>\n",
       "      <td>0.000000</td>\n",
       "      <td>0.000000</td>\n",
       "      <td>0.000000e+00</td>\n",
       "      <td>0.000000</td>\n",
       "      <td>0.000000</td>\n",
       "      <td>0.000000</td>\n",
       "      <td>0.000000</td>\n",
       "      <td>0.000000</td>\n",
       "      <td>0.000000</td>\n",
       "      <td>0.000000</td>\n",
       "      <td>0.000000</td>\n",
       "    </tr>\n",
       "    <tr>\n",
       "      <th>25%</th>\n",
       "      <td>0.000000</td>\n",
       "      <td>0.000000</td>\n",
       "      <td>0.000000</td>\n",
       "      <td>2.000000</td>\n",
       "      <td>2.000000</td>\n",
       "      <td>3.290000e+02</td>\n",
       "      <td>8.000000</td>\n",
       "      <td>1.000000</td>\n",
       "      <td>2.000000</td>\n",
       "      <td>10.000000</td>\n",
       "      <td>0.000000</td>\n",
       "      <td>1.000000</td>\n",
       "      <td>0.000000</td>\n",
       "      <td>2.000000</td>\n",
       "    </tr>\n",
       "    <tr>\n",
       "      <th>50%</th>\n",
       "      <td>0.000000</td>\n",
       "      <td>1.000000</td>\n",
       "      <td>3.000000</td>\n",
       "      <td>6.000000</td>\n",
       "      <td>4.000000</td>\n",
       "      <td>2.818000e+03</td>\n",
       "      <td>32.000000</td>\n",
       "      <td>3.000000</td>\n",
       "      <td>7.000000</td>\n",
       "      <td>38.000000</td>\n",
       "      <td>1.000000</td>\n",
       "      <td>1.000000</td>\n",
       "      <td>0.000000</td>\n",
       "      <td>4.000000</td>\n",
       "    </tr>\n",
       "    <tr>\n",
       "      <th>75%</th>\n",
       "      <td>1.000000</td>\n",
       "      <td>3.000000</td>\n",
       "      <td>33.000000</td>\n",
       "      <td>18.000000</td>\n",
       "      <td>9.000000</td>\n",
       "      <td>1.005500e+04</td>\n",
       "      <td>102.000000</td>\n",
       "      <td>11.000000</td>\n",
       "      <td>19.000000</td>\n",
       "      <td>109.000000</td>\n",
       "      <td>1.000000</td>\n",
       "      <td>3.000000</td>\n",
       "      <td>1.000000</td>\n",
       "      <td>10.000000</td>\n",
       "    </tr>\n",
       "    <tr>\n",
       "      <th>max</th>\n",
       "      <td>1.000000</td>\n",
       "      <td>154.000000</td>\n",
       "      <td>6423.000000</td>\n",
       "      <td>14566.000000</td>\n",
       "      <td>79.000000</td>\n",
       "      <td>1.364139e+06</td>\n",
       "      <td>12415.000000</td>\n",
       "      <td>2027.000000</td>\n",
       "      <td>225.000000</td>\n",
       "      <td>5871.000000</td>\n",
       "      <td>5.000000</td>\n",
       "      <td>108.000000</td>\n",
       "      <td>185.000000</td>\n",
       "      <td>214.000000</td>\n",
       "    </tr>\n",
       "  </tbody>\n",
       "</table>\n",
       "</div>"
      ],
      "text/plain": [
       "                 0            1             2             3            4   \\\n",
       "count  10000.000000  5454.000000  10000.000000   7904.000000  7880.000000   \n",
       "mean       0.258400     3.359919    104.882200     26.452050     7.248350   \n",
       "std        0.437777     8.216898    389.837031    232.085426     8.537747   \n",
       "min        0.000000     0.000000     -2.000000      0.000000     0.000000   \n",
       "25%        0.000000     0.000000      0.000000      2.000000     2.000000   \n",
       "50%        0.000000     1.000000      3.000000      6.000000     4.000000   \n",
       "75%        1.000000     3.000000     33.000000     18.000000     9.000000   \n",
       "max        1.000000   154.000000   6423.000000  14566.000000    79.000000   \n",
       "\n",
       "                 5             6            7            8            9   \\\n",
       "count  9.724000e+03   7766.000000  9581.000000  9994.000000  9581.000000   \n",
       "mean   1.934517e+04    114.607520    16.339944    12.482890   106.816721   \n",
       "std    7.187803e+04    326.166845    64.001228    13.418263   234.186625   \n",
       "min    0.000000e+00      0.000000     0.000000     0.000000     0.000000   \n",
       "25%    3.290000e+02      8.000000     1.000000     2.000000    10.000000   \n",
       "50%    2.818000e+03     32.000000     3.000000     7.000000    38.000000   \n",
       "75%    1.005500e+04    102.000000    11.000000    19.000000   109.000000   \n",
       "max    1.364139e+06  12415.000000  2027.000000   225.000000  5871.000000   \n",
       "\n",
       "                10           11           12           13  \n",
       "count  5454.000000  9581.000000  2295.000000  7880.000000  \n",
       "mean      0.614228     2.679261     1.042702     8.149746  \n",
       "std       0.683882     5.015939     5.468457    11.397965  \n",
       "min       0.000000     0.000000     0.000000     0.000000  \n",
       "25%       0.000000     1.000000     0.000000     2.000000  \n",
       "50%       1.000000     1.000000     0.000000     4.000000  \n",
       "75%       1.000000     3.000000     1.000000    10.000000  \n",
       "max       5.000000   108.000000   185.000000   214.000000  "
      ]
     },
     "execution_count": 28,
     "metadata": {},
     "output_type": "execute_result"
    }
   ],
   "source": [
    "# Output descriptive statistics\n",
    "train[list(range(0,14))].describe()"
   ]
  },
  {
   "cell_type": "markdown",
   "metadata": {},
   "source": [
    "With the above statistics, there are a few notable observations. They are presented below along with the potential problems they can cause. \n",
    "- The counts confirm the magnitude of null values there are. This will need to be handled somehow as blank values can't be modeled. This is particularly tricky because not all the null values appear in the same row.\n",
    "- The range and magnitude of values between different columns is quite significant. Column 5 for instance has values in the millions whereas column 10 has values with a max of 5. Therefore normalization will be a key transformation moving forward. Otherwise, gradient descent may not converge properly.\n",
    "- Column 2 has negative values which is interesting since kaggle states that these should be counts and that when a value is missing, it is listed as empty. This result also poses a potential challenge for log transformations. \n",
    "- There appears to be a tremendous right skew. At 75% of the data, values are fairly small compared to their max. As well, the mean of most columns is greater than the median thereby supporting this fact.\n",
    "\n",
    "To get a better sense of the above observations, boxplots, histograms and correlation plots were ran below. Note that just the train set was run because it contains many more datapoints and so would be a better representation of the larger dataset. "
   ]
  },
  {
   "cell_type": "code",
   "execution_count": 29,
   "metadata": {},
   "outputs": [],
   "source": [
    "# Make Boxplot\n",
    "def make_boxplot(df):\n",
    "    normalized_df=(df-df.mean())/(df.std())\n",
    "    normalized_df.boxplot()"
   ]
  },
  {
   "cell_type": "code",
   "execution_count": 30,
   "metadata": {},
   "outputs": [
    {
     "data": {
      "image/png": "[encoded data removed]",
      "text/plain": [
       "<Figure size 432x288 with 1 Axes>"
      ]
     },
     "metadata": {},
     "output_type": "display_data"
    }
   ],
   "source": [
    "make_boxplot(train[list(range(1,14))])"
   ]
  },
  {
   "cell_type": "markdown",
   "metadata": {},
   "source": [
    "To make the boxplot above, each field was range-normalized to express all values between 0 and 1. The large number of points above the outlier tails confirms the significant presence of right-skewness as remarked on previously for many of the features. Column 3, 6 and 7 illustrate this well given how compressed their respective boxplots are. Column 10 is worth noting since as seen above, it really only seems to have 5 values. It is curious what this column may represent."
   ]
  },
  {
   "cell_type": "code",
   "execution_count": 31,
   "metadata": {},
   "outputs": [],
   "source": [
    "# Make histogram grid\n",
    "def hist_grid(df, rows, columns, log = False):\n",
    "    \n",
    "    # Defining plot layout\n",
    "    fig, axs = plt.subplots(rows, columns, figsize=(15,10))\n",
    "    r = 0\n",
    "    c = 0\n",
    "    \n",
    "    for x in df.columns:\n",
    "        \n",
    "        # Dropping NAs and replacing 0, -1, -2 with 0.01 incase logging is necessary\n",
    "        if not log:\n",
    "            data = np.array(df[x].dropna()) \n",
    "        else:\n",
    "            data = np.log(np.array(df[x].dropna().replace([0, -1, -2], 0.01)))\n",
    "        \n",
    "        # Getting the max values for binning purposes\n",
    "        max_value = np.amax(data)\n",
    "        axs[r,c].set_title('Column ' + str(x))\n",
    "\n",
    "        # Graphing instructions for different column\n",
    "        if x in [0, 4, 10]:\n",
    "            axs[r,c].hist(data)\n",
    "            \n",
    "        elif x in [1, 2, 8, 11, 12, 13]:\n",
    "            axs[r,c].set_xlim([0,max_value*0.05])\n",
    "            axs[r,c].hist(data, bins = int(len(data)*0.5))\n",
    "            \n",
    "        else:\n",
    "            axs[r,c].set_xlim([0,max_value*0.01])\n",
    "            axs[r,c].hist(data, bins = int(len(data)*0.2))\n",
    "\n",
    "        # Update the plot layout position\n",
    "        r = r + 1 if c == columns-1 else r + 0\n",
    "        c = c + 1 if c < columns-1 else 0\n",
    "    \n",
    "    plt.subplots_adjust(hspace = 1.5)"
   ]
  },
  {
   "cell_type": "code",
   "execution_count": 32,
   "metadata": {},
   "outputs": [
    {
     "data": {
      "image/png": "[encoded data removed]",
      "text/plain": [
       "<Figure size 1080x720 with 15 Axes>"
      ]
     },
     "metadata": {},
     "output_type": "display_data"
    }
   ],
   "source": [
    "hist_grid((train[list(range(0,14))]), 5, 3, log=False)"
   ]
  },
  {
   "cell_type": "markdown",
   "metadata": {},
   "source": [
    "Above, histograms were created to represent the labels as well as each of the integer features. There is code to adjust the x-axis of each feature's histogram in order to show the major distribution. Otherwise, because of the right skew, there would only be 1-2 bars. In the result, we can still see the right skewness of each of the data points. \n",
    "\n",
    "Histograms typically are well suited to highlight the skewness problem and in light of this, we also attempted to generated log-transformed version of each of these graphs. They are seen in the appendix. After doing this, columns 6, 7, 8, 9 and 13 seem to be much more normal after undergoing a log transform. However in doing so, we noted the prevalence of 0s throughout each feature. As seen in the code above, we accounted for this by replacing such values (along with negative values) with a value of 0.01. This works but the replacement value was chosen abstractly and it lead to a value of -4 in the data which could have a tremendous impact. It is not clear what would be a good replacement value instead since there is an inherent dependency on the overall range of the respective feature's values that the 0s belong to. Therefore, logging overall may not be an appropriate solution.\n",
    "\n",
    "A final result to highlight are the labels. As can be seen there are noticeably less positive values compared to negative values. This could pose a problem in terms of data balance. If a dataset is unbalanced, our algorithm may not learn how to recognize positive samples appropriately. Typical techniques for this include undersampling the negative data or upsampling the positive data to match the negatives in count. Both of these will be considered. "
   ]
  },
  {
   "cell_type": "code",
   "execution_count": 33,
   "metadata": {},
   "outputs": [
    {
     "data": {
      "text/plain": [
       "<matplotlib.axes._subplots.AxesSubplot at 0x7f06d68e5470>"
      ]
     },
     "execution_count": 33,
     "metadata": {},
     "output_type": "execute_result"
    },
    {
     "data": {
      "image/png": "[encoded data removed]",
      "text/plain": [
       "<Figure size 432x288 with 2 Axes>"
      ]
     },
     "metadata": {},
     "output_type": "display_data"
    }
   ],
   "source": [
    "# Prepare correlation plots\n",
    "corr_mat = train.corr()\n",
    "sns.heatmap(corr_mat, xticklabels=corr_mat.columns, yticklabels=corr_mat.columns, cmap='RdBu', vmin=-1)"
   ]
  },
  {
   "cell_type": "markdown",
   "metadata": {},
   "source": [
    "Looking at the results, we note the darker points listed below. These points look like they are fairly correlated and therefore it would be best to only have one of each pairing so as to avoid multi-colinearity. Interestingly, there appear to be two main groups in terms of the correlations. \n",
    "\n",
    "__Group 1__\n",
    "- 4 & 13, 8 & 13, 4 & 8\n",
    "\n",
    "__Group 2__\n",
    "- 7 & 11, 5 & 10, 6 & 10, 1 & 10, 5 & 6, 1 & 7 "
   ]
  },
  {
   "cell_type": "markdown",
   "metadata": {},
   "source": [
    "From here, we list the columns based on preference. The columns in tier 1 are our preferred because they generally have a low null count and seem more or less independent amongst themselves. Column 8 and 6 were chosen as representatives of their respective groups. Column 3 was chosen because although being very highly distributed it doesn't seem to have any correlation with other variables. Column 9 seems like it should be a general catch-all in terms of variation among a number of different variables. \n",
    "\n",
    "The other columns such as those in tier 2 columns are worth considering and we may be revisit these but they are left out now primarily because of issues revolving around high correlation with tier 1 columns, colinearity, and/or the amount of null values. The tier 3 columns are ones that are generally least preferred due to the same reasons as tier 2 but at a higher level.\n",
    "\n",
    "| Tier 1 | Tier 2 | Tier 3 |\n",
    "|--------|--------|--------|\n",
    "|3, 6, 8, 9| 4,5,7,13 |1,2,10,11,12|\n"
   ]
  },
  {
   "cell_type": "markdown",
   "metadata": {},
   "source": [
    "#### Categorical Exploratory Data Analysis"
   ]
  },
  {
   "cell_type": "code",
   "execution_count": 34,
   "metadata": {},
   "outputs": [
    {
     "data": {
      "image/png": "[encoded data removed]",
      "text/plain": [
       "<Figure size 2880x2160 with 26 Axes>"
      ]
     },
     "metadata": {},
     "output_type": "display_data"
    }
   ],
   "source": [
    "# Make bar plot of counts of each distinct value\n",
    "plt.figure(figsize=(40, 30))\n",
    "\n",
    "for i in range(26):\n",
    "    plt.subplot(7, 4, i+1)\n",
    "    count_list = train.groupby(by=i+14)[i+14].count().tolist()\n",
    "    plt.bar(np.arange(len(count_list)), count_list, align='center', alpha=0.5)\n",
    "    plt.ylabel('Counts')\n",
    "    plt.xticks([], [])\n",
    "    plt.ylim((0,np.amax(count_list)))\n",
    "    plt.title('Feature ' + str(i+14) + ' Chart')\n",
    "\n",
    "plt.show()"
   ]
  },
  {
   "cell_type": "markdown",
   "metadata": {},
   "source": [
    "For categorical features, we look at the number of distinct values, number of null values and bar charts of the distribution of the different categorical values. For null values and distinct category counts, we observed the full dataset. However, for bar charts, we visualized the data using only a 10,000 record random sample dataset. This is because some of the features had millions of distinct categories that wouldn't have been able to all be captured in a chart. Our assumption is that the bar charts can be reasonably well extrapolated from the test data to the full dataset as we also compare the number of distinct categories in each as well. Code for counting the full dataset can be found in the appendix.\n",
    "\n",
    "Observing null values, we saw that features with indexes 32, 33, 35, 38 and 39 had a very high proportion of null values, with nearly half being null and for feature 35 having approximately 3/4 being null. This suggests to us that these features might contribute less information and were put for higher consideration to be eliminated as part of feature selection. However, nulls can also just be considered another category so we didn't entirely write-off a feature just because it had a high null count. \n",
    "\n",
    "For the distinct values, we can observe that features 16, 17, 25, 29 and 34 all had over 1 million distinct categories and were very diverse. Features 37 and 39 also had over 100,000 distinct categories and were fairly diverse. The wide spread of these features were negative characteristics and seem like they would just added more noise to our models and were therefore also removed from consideration as part of feature selection. \n",
    "\n",
    "Observing the bar charts, we focused on how evenly spread out the category counts were for each feature. A common trend we observed was that some features had categories that had overwhelmingly higher counts than others, heavily skewing the distribution. This was another negative feature characteristic where 1 or 2 categories overwhelm the others and the remaining categories are almost just noise. \n",
    "\n",
    "Overall, by taking into account the above characteristics observed in our categorical features, we selected the following features to include in building out our models: 15, 19, 21, 27, 30, 31, 35, 36, 38. These features didn't have too many categorical values, were fairly reasonably distributed and didn't have specific categories that overwhelmed the others in distribution. Although previously mentioned as having a high null count, columns 35 and 38 were chosen to provide as extra wildcard variables in case they represented very unique and specialized information that is otherwise not capturable with other variables."
   ]
  },
  {
   "cell_type": "markdown",
   "metadata": {},
   "source": [
    "## Transformations\n",
    "\n",
    "Here we establish our data pipeline to transform the data and select our columns of [3, 6, 8, 9, 15, 19, 21, 27, 30, 31, 35, 36, 38]. This is a mixed bag of features but given that their meaning is anonymized, we felt a diverse set would nevertheless give us the best ability to compare the performance of two different models. Steps in our process include binning the categorical variables, filling any empty cells with the column mean, and normalizing the data overall. As mentioned previously, this will be a parallelized pipeline so that it can handle the full dataset appropriately."
   ]
  },
  {
   "cell_type": "code",
   "execution_count": 5,
   "metadata": {},
   "outputs": [],
   "source": [
    "def parse(line): \n",
    "    data = line.split('\\t')\n",
    "    \n",
    "    # extra null values at end not included\n",
    "    for i in range(40-len(data)): \n",
    "        data.append('')\n",
    "\n",
    "    # Convert int formatted strings to ints\n",
    "    for i in range(14):\n",
    "        if (data[i] is not ''): \n",
    "            data[i] = int(data[i])\n",
    "        else: \n",
    "            data[i] = None\n",
    "\n",
    "    # Convert 32-bit hex formatted strings to ints\n",
    "    for i in range(14, 40): \n",
    "        if (data[i] is not ''): \n",
    "            data[i] = int(data[i], 32)\n",
    "        else: \n",
    "            data[i] = 0\n",
    "\n",
    "    return data"
   ]
  },
  {
   "cell_type": "code",
   "execution_count": 6,
   "metadata": {},
   "outputs": [
    {
     "name": "stdout",
     "output_type": "stream",
     "text": [
      "Parsed working data\n"
     ]
    }
   ],
   "source": [
    "workingRDD = sampleTrainRDD.map(parse).cache()\n",
    "print(\"Parsed working data\")"
   ]
  },
  {
   "cell_type": "code",
   "execution_count": 7,
   "metadata": {},
   "outputs": [],
   "source": [
    "# For each numerical feature, prepare the data for further calculationso we capture the value\n",
    "# and just output 0 if null\n",
    "def infoCalc(line): \n",
    "    for i in range(14): \n",
    "        if line[i] is not None: \n",
    "            yield (i, (line[i], 1))\n",
    "        else: \n",
    "            yield (i, (0, 1))\n",
    "\n",
    "# Find the mean, max, and min for the data\n",
    "def makeAvgMaxMin(dataRDD):\n",
    "    cache_data = dataRDD.flatMap(infoCalc).cache()\n",
    "    avg_list = cache_data.reduceByKey(lambda x,y: (x[0]+y[0], x[1]+y[1])).map(lambda x: (x[0], x[1][0] / x[1][1])).collect()\n",
    "    max_list = cache_data.reduceByKey(lambda x,y: x if x[0]>y[0] else y).collect()\n",
    "    min_list = cache_data.reduceByKey(lambda x,y: x if x[0]<y[0] else y).collect()\n",
    "\n",
    "    return avg_list, max_list, min_list"
   ]
  },
  {
   "cell_type": "code",
   "execution_count": 8,
   "metadata": {},
   "outputs": [
    {
     "name": "stdout",
     "output_type": "stream",
     "text": [
      "Made Average, Max, and Min List for Further Use\n"
     ]
    }
   ],
   "source": [
    "avg_list, max_list, min_list = makeAvgMaxMin(workingRDD)\n",
    "print(\"Made Average, Max, and Min List for Further Use\")"
   ]
  },
  {
   "cell_type": "code",
   "execution_count": 9,
   "metadata": {},
   "outputs": [],
   "source": [
    "def replaceNoneWithMean(dataRDD, avg_list):\n",
    "    \n",
    "    # Prepare mapping dictionary based on averages\n",
    "    mean_dict = {}\n",
    "    for k,v in avg_list:\n",
    "        mean_dict[k] = v\n",
    "    \n",
    "    # Fill in the none with the mean values.\n",
    "    def replace_func(line):\n",
    "        for v in range(1,14):\n",
    "            if line[v] is None:\n",
    "                line[v] = mean_dict.get(v)\n",
    "                \n",
    "        return line\n",
    "    \n",
    "    return dataRDD.map(lambda x: replace_func(x))"
   ]
  },
  {
   "cell_type": "code",
   "execution_count": 10,
   "metadata": {},
   "outputs": [
    {
     "name": "stdout",
     "output_type": "stream",
     "text": [
      "Empty Numeric Values Filled with Mean\n"
     ]
    }
   ],
   "source": [
    "meanFilledRDD = replaceNoneWithMean(workingRDD, avg_list)\n",
    "print(\"Empty Numeric Values Filled with Mean\")"
   ]
  },
  {
   "cell_type": "markdown",
   "metadata": {},
   "source": [
    "#### Categorical Feature Data Transformations\n",
    "\n",
    "Two approaches were considered for handling data transformation for our categorical features prior to modeling. The first was one-hot encoding and the other was taking the Breiman method for changing categorical features into ordinal binned features. After considering the different approaches and taking into account our analysis of our EDA, we decided to use the Breiman method since many of our categorical features have a high percentage of unique values vs. record count. For example, there were some features had over 5MM unique values. The code for the Breiman method is below, while the one-hot encoding code is included in the appendix. \n",
    "\n",
    "bin_convert is the main method to call for categorical feature data transformation. The input parameters asks for the input data RDD, a list of categorical feature indices to be transformed and number of bins to use. The convert_col_bin function is then called by bin_convert for each feature. convert_col_bin uses the binning method to generate a reference map of distinct unique values into the correct bin, given the proportion of positive click-through rates that the distinct category value has. This bin-category reference mapping is then used to replace the category values with the appropriate bin. "
   ]
  },
  {
   "cell_type": "code",
   "execution_count": 11,
   "metadata": {},
   "outputs": [],
   "source": [
    "# Given an input RDD and index, generate a mapping of category values sorted into bins by the proportion\n",
    "# click-through rates the category value has\n",
    "def binning(dataRDD, index, binCount): \n",
    "    \n",
    "    # Gets all distinct category values and then calculates their proportion of click-through and sorts\n",
    "    distribution = dataRDD.map(lambda x: (x[index], (x[0], 1))) \\\n",
    "                          .reduceByKey(lambda x,y: (x[0]+y[0], x[1]+y[1])) \\\n",
    "                          .map(lambda x: (x[1][0] / x[1][1], x[0])).sortByKey(True).collect()\n",
    "\n",
    "    catCount = len(distribution)\n",
    "    \n",
    "    # If the requested number of bins is more than the number of category values, just use the number\n",
    "    # of category values. This way the feature will just be converted into a ordinal categorical feature\n",
    "    if catCount < binCount: \n",
    "        binCount = catCount\n",
    "    \n",
    "    bin_map = []\n",
    "    counter = 0\n",
    "    \n",
    "    # Based on the number of bins, calculate the number of categories in each bin and store in list\n",
    "    bins = [(catCount // binCount) for i in range(binCount)]    \n",
    "    for i in range(catCount % binCount):\n",
    "        bins[i] += 1\n",
    "        \n",
    "    # Map the category values into bins\n",
    "    for iterBin in range(len(bins)): \n",
    "        for i in range(bins[iterBin]):\n",
    "            bin_map.append((iterBin, distribution[counter][1]))\n",
    "            counter += 1\n",
    "            \n",
    "    return bin_map\n",
    "\n",
    "# Map the category values to its bin values\n",
    "def reference_bin (line, index, bin_map): \n",
    "    for category in bin_map: \n",
    "        if category[1] == line[index]: \n",
    "            line[index] = category[0]\n",
    "            return line\n",
    "        \n",
    "# Converts a categorical feature into a binned ordinal feature\n",
    "def convert_col_bin(dataRDD, index, bin_size=100): \n",
    "    # bin map format is a list of (bin index, category value)\n",
    "    bin_map = binning(dataRDD, index, bin_size)\n",
    "    \n",
    "    # Save reference map as a file\n",
    "    output_file = open('./references/col_' + str(index) + '_bin_map.txt', 'w+')\n",
    "\n",
    "    for l in bin_map:\n",
    "        output_file.write(str(l) + '\\n')\n",
    "        \n",
    "    output_file.close()\n",
    "    \n",
    "    return dataRDD.map(lambda line: reference_bin(line, index, bin_map))\n",
    "\n",
    "# Main function used to convert categorical features into ordinal binned features\n",
    "def bin_convert(dataRDD, index_list, bin_size): \n",
    "    for index in index_list: \n",
    "        dataRDD = convert_col_bin(dataRDD, index, bin_size)\n",
    "        \n",
    "    return dataRDD"
   ]
  },
  {
   "cell_type": "code",
   "execution_count": 12,
   "metadata": {},
   "outputs": [
    {
     "name": "stdout",
     "output_type": "stream",
     "text": [
      "Categorical Values Binned\n"
     ]
    }
   ],
   "source": [
    "binnedRDD = bin_convert(meanFilledRDD, [15, 19, 21, 27, 30,31, 35, 36, 38], 100)\n",
    "print(\"Categorical Values Binned\")"
   ]
  },
  {
   "cell_type": "code",
   "execution_count": 13,
   "metadata": {},
   "outputs": [],
   "source": [
    "# Choose the columns we want to proceed with\n",
    "def dataStaging(dataRDD, selected_columns):\n",
    "    \n",
    "    def filter_columns(line):\n",
    "        out = tuple()\n",
    "        \n",
    "        for i,v in enumerate(line):\n",
    "            if i in selected_columns:\n",
    "                out += (v,)\n",
    "                \n",
    "        return out\n",
    "    \n",
    "    return dataRDD.map(lambda x: (filter_columns(x), x[0]))"
   ]
  },
  {
   "cell_type": "code",
   "execution_count": 14,
   "metadata": {},
   "outputs": [
    {
     "name": "stdout",
     "output_type": "stream",
     "text": [
      "Data Narrowed to Chosen Columns/Data Reshaped\n"
     ]
    }
   ],
   "source": [
    "column_choices = [3, 6, 8, 9, 15, 19, 21, 27, 30, 31, 35, 36, 38]\n",
    "stagedRDD = dataStaging(binnedRDD, column_choices)\n",
    "print(\"Data Narrowed to Chosen Columns/Data Reshaped\")"
   ]
  },
  {
   "cell_type": "code",
   "execution_count": 15,
   "metadata": {},
   "outputs": [],
   "source": [
    "# Scale and center data around the mean of each feature.\n",
    "def normalizeMean(dataRDD):\n",
    "    featureMeans = dataRDD.map(lambda x: np.array(x[0])).mean()\n",
    "    featureStdev = np.sqrt(dataRDD.map(lambda x: np.array(x[0])).variance())\n",
    "    \n",
    "    normedRDD = dataRDD.map(lambda x: ((x[0] - featureMeans)/featureStdev, x[1]))\n",
    "    \n",
    "    return normedRDD"
   ]
  },
  {
   "cell_type": "code",
   "execution_count": 16,
   "metadata": {},
   "outputs": [
    {
     "name": "stdout",
     "output_type": "stream",
     "text": [
      "Data Normalized to Mean Results\n"
     ]
    }
   ],
   "source": [
    "meanNormalizedRDD = normalizeMean(stagedRDD)\n",
    "print(\"Data Normalized to Mean Results\")"
   ]
  },
  {
   "cell_type": "markdown",
   "metadata": {},
   "source": [
    "After validating the process works, we combine each of our techniques above into an all in one pipeline."
   ]
  },
  {
   "cell_type": "code",
   "execution_count": 22,
   "metadata": {},
   "outputs": [],
   "source": [
    "# Putting all preps together\n",
    "def prepare_data(dataRDD):\n",
    "    dataRDD = dataRDD.map(parse).cache()\n",
    "    avg_list, max_list, min_list = makeAvgMaxMin(dataRDD)\n",
    "    dataRDD = replaceNoneWithMean(dataRDD, avg_list)    \n",
    "    dataRDD = bin_convert(dataRDD, [15, 19, 21, 27, 30,31, 35, 36, 38], 100)    \n",
    "    dataRDD = dataStaging(dataRDD, column_choices)\n",
    "    dataRDD = normalizeMean(dataRDD)\n",
    "    \n",
    "    return dataRDD"
   ]
  },
  {
   "cell_type": "markdown",
   "metadata": {},
   "source": [
    "#### Modeling\n",
    "\n",
    "For our modeling, we chose to do two types of modeling: Logistic Regression and Gradient Boosted Trees. Both of these are described below. We will use the train set to train the model and then test on the validation set that was generated previously."
   ]
  },
  {
   "cell_type": "markdown",
   "metadata": {},
   "source": [
    "##### Logistc Regression"
   ]
  },
  {
   "cell_type": "markdown",
   "metadata": {},
   "source": [
    "Logistic regression can be best thought of as linear regression but with an additional step of passing the predicted value through a sigmoid activation function to output a value between 0 and 1. The equation of the sigmoid function is given by $\\frac{1}{1+e^{-z}}$ where $z$ is the output of the linear regression as mentioned previously. The shape of the sigmoid function is what makes this function so attractive. It can be in the link below. \n",
    "\n",
    "https://ml-cheatsheet.readthedocs.io/en/latest/logistic_regression.html\n",
    "\n",
    "Because of the sharp inflection point, values are usually calculated to be closer to the flatter regions which makes classification easy. Logistic regression is also nice because similar to linear regression, it is an easily parallelizable algorithm, simple to run, and is convex. The loss of the logistic regression can be calculated as:\n",
    "\n",
    "$J(\\theta) = \\frac{-1}{m}\\sum_\\limits{i=1}^{m}[y^{i}log(h(x^{i}) + (1-y^{i})log(1-h(x^{i}))]$\n",
    "\n",
    "where $h(x)$ is the prediction post-sigmoid transformation. This formula comes from the principals of cross-entropy, a measure of approximation quality of a theoretical distribution to some true one in which the data actually follows. It involves taking the negative log of our predictions because given the shape the shape of the negative log, it heavily penalizes predictions that are off the mark. For instance, in the scenario that something is True (Probability = 1) but somehow our predicted probability was 0.01 then the punishment would be very high because of the negative log function. Conversely, if the predicted probability was closer like 0.80 then it would be in a smoother region of the curve and the penalty would be very low. The reason for having two different terms is that we must account for both the positive and negative results of logistic regression. \n",
    "\n",
    "In terms of gradient descent, the above formula also has a convenient derivative. As seen in the derivation here: https://stats.stackexchange.com/questions/278771/how-is-the-cost-function-from-logistic-regression-derivated, the end result is\n",
    "\n",
    "$\\frac{J(\\theta)}{\\delta\\theta} = \\frac{1}{m}\\sum_\\limits{i=1}^{m}[(h(x^{i})-y^{i}]\\cdot x^{i}$\n",
    "\n",
    "which is a remarkably simple formula as it is just the difference between the predicted probability and the actual result. We then take the overall mean and apply accordingly to our dataset. We demonstrate our understanding of these concepts in the code found below. To simplify the tuning process, we instead look towards the mllib library."
   ]
  },
  {
   "cell_type": "code",
   "execution_count": 17,
   "metadata": {},
   "outputs": [],
   "source": [
    "# Calculate the loss via cross-entropy\n",
    "def Log_Loss(dataRDD, W, learningRate):\n",
    "    \n",
    "    # Replace any auto-rounded values with an approximate\n",
    "    def replace_ints(line):\n",
    "        if line[0] == 1.0:\n",
    "            line = (0.9999999999999999, line[1])\n",
    "        elif line[0] == 0.0:\n",
    "            line = (0.0000000000000001, line[1])\n",
    "\n",
    "        return line\n",
    "    \n",
    "    # Add the bias term to the equation \n",
    "    augmentedData = dataRDD.map(lambda x: (np.append([1.0], x[0]), x[1]))\n",
    "    \n",
    "    # Calculate loss\n",
    "    loss = None\n",
    "    loss = augmentedData.map(lambda x: (1/(1+np.exp(-np.dot(x[0], W))), x[1])) \\\n",
    "                        .map(lambda x: replace_ints(x)) \\\n",
    "                        .map(lambda x: x[1]*np.log(x[0]) + (1-x[1])*np.log(1-x[0])) \\\n",
    "                        .mean()*(-1)\n",
    "        \n",
    "    return loss"
   ]
  },
  {
   "cell_type": "code",
   "execution_count": 18,
   "metadata": {},
   "outputs": [],
   "source": [
    "# Perform gradient descent\n",
    "def GDUpdate(dataRDD, W, learningRate):\n",
    "    \n",
    "    # Add the bias term\n",
    "    augmentedData = dataRDD.map(lambda x: (np.append([1.0], x[0]), x[1])).cache()\n",
    "    \n",
    "    # Instantiate\n",
    "    grad = None\n",
    "    new_model = None\n",
    "    \n",
    "    # Update the model accordingly\n",
    "    new_model = W - augmentedData.map(lambda x: (1/(1+np.exp(-np.dot(x[0], W))) - x[1])*x[0]).mean() * learningRate\n",
    "       \n",
    "    return new_model"
   ]
  },
  {
   "cell_type": "code",
   "execution_count": 19,
   "metadata": {},
   "outputs": [],
   "source": [
    "# Produce confusion matrix metrics\n",
    "def calcConfusionMatrix(dataRDD, W):\n",
    "    \n",
    "    # Determining whether true positive, true negative, false positive, or false negative\n",
    "    def match_calculation(result):\n",
    "        out = (1,) if result[0] == 0 and result[1] == 0 else (0,)\n",
    "        out += (1,) if result[0] == 1 and result[1] == 1 else (0,)\n",
    "        out += (1,) if result[0] == 0 and result[1] == 1 else (0,)\n",
    "        out += (1,) if result[0] == 1 and result[1] == 0 else (0,)\n",
    "            \n",
    "        return out\n",
    "    \n",
    "    # Adding the bias term\n",
    "    augmentedData = dataRDD.map(lambda x: (np.append([1.0], x[0]), x[1]))\n",
    "    \n",
    "    # Classifying the results\n",
    "    prediction = augmentedData.map(lambda x: (1/(1+np.exp(-np.dot(x[0], W))), x[1])) \\\n",
    "                              .map(lambda x: (1 if x[0] >= 0.5 else 0, x[1])) \\\n",
    "                              .map(lambda x: match_calculation(x)) \\\n",
    "                              .reduce(lambda x,y: (x[0] + y[0], x[1] + y[1], x[2] + y[2], x[3] + y[3]))\n",
    "    \n",
    "    # Calculating overall metrics\n",
    "    confusion_results = {\n",
    "        'Accuracy': round((prediction[0] + prediction[1])/sum(prediction),3) if sum(prediction) != 0 else None,\n",
    "        'Recall': round((prediction[1])/(prediction[1] + prediction[2]),3) if (prediction[1] + prediction[2]) !=0 else None,\n",
    "        'Specificity': round((prediction[0])/(prediction[0] + prediction[3]),3) if (prediction[0] + prediction[3]) != 0 else None,\n",
    "        'Precision': round((prediction[1])/(prediction[1] + prediction[3]),3) if (prediction[1] + prediction[3]) !=0 else None,\n",
    "        'F1-Score': round((2*prediction[1])/(2*prediction[1] + prediction[2] + prediction[3]),3) if (2*prediction[1] + prediction[2] + prediction[3]) != 0 else None \n",
    "    }\n",
    "    \n",
    "    return confusion_results"
   ]
  },
  {
   "cell_type": "code",
   "execution_count": 20,
   "metadata": {},
   "outputs": [],
   "source": [
    "def run_model(trainRDD, testRDD, nSteps = 20, learningRate = 0.2, verbose = True):\n",
    "\n",
    "    start = time.time()\n",
    "    \n",
    "    # Creating the baseline\n",
    "    np.random.seed(seed=0)\n",
    "    BASELINE = np.random.choice([0,1], size=len(column_choices)+1, replace=True, p=[0.5, 0.5])\n",
    "    model = BASELINE\n",
    "    \n",
    "    if verbose:\n",
    "        print(f\"BASELINE:  Loss = {Log_Loss(trainRDD, model, learningRate)}\")\n",
    "    \n",
    "    # Perform logistic regression using gradient descent\n",
    "    for idx in range(nSteps):\n",
    "        model = GDUpdate(trainRDD, model, learningRate)\n",
    "        loss = Log_Loss(trainRDD, model, learningRate)\n",
    "        if (idx + 1) % 5 == 0 and verbose:\n",
    "            print(\"----------\")\n",
    "            print(f\"STEP: {idx+1}\")\n",
    "            print(f\"Loss: {loss}\")\n",
    "            print(f\"Model: {[round(w,3) for w in model]}\")\n",
    "            print(f'... completed job in {time.time() - start} seconds.')\n",
    "            start = time.time()\n",
    "    \n",
    "    results = calcConfusionMatrix(testRDD, model)\n",
    "    \n",
    "    return (loss, model, results)"
   ]
  },
  {
   "cell_type": "markdown",
   "metadata": {},
   "source": [
    "##### Logistic Regression Optimization"
   ]
  },
  {
   "cell_type": "markdown",
   "metadata": {},
   "source": [
    "We ran the code above in two separate for-loops to find an optimal iteration length and learning rate. The code for this can be found in the appendix but essentially the number of iterations range from 5 to 50 incrementing by 5 whereas the learning rate ranged from 0.1 to 1 with an increment of 0.1. When running the iteration optimization, learning rate was set to 0.6 whereas when learning rate was optimized, the number of iterations was set at 20. After each run, the data was copy and pasted to two separate text files. The name of these files can be seen below. We train on the sample of 10 000 records and test on a validation set of 2000 records. "
   ]
  },
  {
   "cell_type": "code",
   "execution_count": 23,
   "metadata": {},
   "outputs": [],
   "source": [
    "valProcessedRDD = prepare_data(valRDD)"
   ]
  },
  {
   "cell_type": "code",
   "execution_count": 24,
   "metadata": {},
   "outputs": [
    {
     "data": {
      "text/plain": [
       "<matplotlib.collections.PathCollection at 0x7f5ad53f67f0>"
      ]
     },
     "execution_count": 24,
     "metadata": {},
     "output_type": "execute_result"
    },
    {
     "data": {
      "image/png": "[encoded data removed]",
      "text/plain": [
       "<Figure size 1080x360 with 2 Axes>"
      ]
     },
     "metadata": {},
     "output_type": "display_data"
    }
   ],
   "source": [
    "# Outputting the results\n",
    "def processOptimizationResults(file):\n",
    "    x = []\n",
    "    y = []\n",
    "    for r in file:\n",
    "        if r != '' and 'Running' not in r:\n",
    "            r = r.split('\\t')\n",
    "            x.append(round(float(r[0]),1))\n",
    "            y.append(float(r[1]))\n",
    "\n",
    "    return x,y\n",
    "\n",
    "varLearning_x, varLearning_y = processOptimizationResults(open('logistic-test-lrV-iter20.txt','r').read().splitlines())\n",
    "varIter_x, varIter_y = processOptimizationResults(open('logistic-test-lr6-iterV.txt','r').read().splitlines())\n",
    "\n",
    "# Creating the graphs\n",
    "fig, axs = plt.subplots(1, 2, figsize=(15,5))\n",
    "axs[0].set_title('Loss vs Learning Rate, Iter = 20')\n",
    "axs[0].set_xlabel('Learning Rate')\n",
    "axs[0].set_ylabel('Loss')\n",
    "axs[0].scatter(varLearning_x, varLearning_y)\n",
    "axs[1].set_title('Loss vs Number of Iterations, Learning Rate = 0.6')\n",
    "axs[1].set_xlabel('Number of Iterations')\n",
    "axs[1].set_ylabel('Loss')\n",
    "axs[1].scatter(varIter_x, varIter_y)"
   ]
  },
  {
   "cell_type": "markdown",
   "metadata": {},
   "source": [
    "From these results, the optimal settings seems to be around **0.6** for learning rate and for about **30** iterations. We move forward accordingly with these settings."
   ]
  },
  {
   "cell_type": "code",
   "execution_count": 25,
   "metadata": {},
   "outputs": [
    {
     "name": "stdout",
     "output_type": "stream",
     "text": [
      "Loss, Model, Stats:\t0.4864001186148145\t(-1.2383276644535999, 0.6473552539616678, 0.0005480365910129348, -0.0377260036011038, -0.18107454302616127, 0.15544764278482745, 0.06576919564658262, 0.3826083848538125, 0.18243078374573604, 0.18399794740922223, 0.842376727346967, 0.08955086098879023, 0.26018276987610567, 0.06013495942523827)\t{'Accuracy': 0.798, 'Recall': 0.396, 'Specificity': 0.934, 'Precision': 0.669, 'F1-Score': 0.498}\n",
      "\n"
     ]
    }
   ],
   "source": [
    "# Running on established settings\n",
    "result = run_model(meanNormalizedRDD, valProcessedRDD, nSteps = 30, learningRate = 0.6, verbose = False)\n",
    "print('Loss, Model, Stats:' + '\\t' + str(result[0]) + '\\t' + str(tuple(result[1])) + '\\t' + str(result[2]) + '\\n')"
   ]
  },
  {
   "cell_type": "markdown",
   "metadata": {},
   "source": [
    "Another thing to try was the upsampling of data because the number of positives compared to negatives was quite significant was noted in the EDA. Our question is whether or not balancing the data by replicating some of the positive samples would help. The code for that is below. We try to upsample the positive data by 2x and 3x the original amount. "
   ]
  },
  {
   "cell_type": "code",
   "execution_count": 26,
   "metadata": {},
   "outputs": [],
   "source": [
    "# Upsampling the data\n",
    "def upsampling_dataset(dataRDD, n):\n",
    "\n",
    "    # Define the multiplier list\n",
    "    multi_range = sc.broadcast(tuple(range(1, 2*n-1)))\n",
    "    \n",
    "    # Perform the upsampling on positive samples\n",
    "    def multiply_data(line, n):\n",
    "        \n",
    "        # Establish random.choice parameters\n",
    "        range_length = len(multi_range.value)\n",
    "        prob = range_length*[1/range_length]\n",
    "        \n",
    "        # Multiply the lines\n",
    "        if line[1] == 1:\n",
    "            for i in range(int(np.random.choice(multi_range.value, size=1, replace=True, p=prob))):\n",
    "                yield line\n",
    "        else:\n",
    "            yield line\n",
    "    \n",
    "    return dataRDD.flatMap(lambda x: multiply_data(x, n))"
   ]
  },
  {
   "cell_type": "code",
   "execution_count": 27,
   "metadata": {},
   "outputs": [],
   "source": [
    "# Perform upsampling\n",
    "upsampledRDD2 = upsampling_dataset(meanNormalizedRDD, 2)\n",
    "upsampledRDD3 = upsampling_dataset(meanNormalizedRDD, 3)"
   ]
  },
  {
   "cell_type": "code",
   "execution_count": 28,
   "metadata": {},
   "outputs": [
    {
     "name": "stdout",
     "output_type": "stream",
     "text": [
      "Loss, Model, Stats:\t0.5368033372368641\t(-0.8717575907104784, 0.6613240557323669, -0.0021495364553390604, -0.047069969811890426, -0.1729183639205648, 0.14698101657201432, 0.06860334755622685, 0.37855288834289685, 0.18620522068544218, 0.20549467858533385, 0.8970371857752129, 0.0879901345499235, 0.2625967197816698, 0.05599697079113881)\t{'Accuracy': 0.792, 'Recall': 0.55, 'Specificity': 0.874, 'Precision': 0.595, 'F1-Score': 0.572}\n",
      "\n"
     ]
    }
   ],
   "source": [
    "# Run the model on 2x upsampling\n",
    "result = run_model(upsampledRDD2, valProcessedRDD, nSteps = 30, learningRate = 0.6, verbose = False)\n",
    "print('Loss, Model, Stats:' + '\\t' + str(result[0]) + '\\t' + str(tuple(result[1])) + '\\t' + str(result[2]) + '\\n')"
   ]
  },
  {
   "cell_type": "code",
   "execution_count": 29,
   "metadata": {},
   "outputs": [
    {
     "name": "stdout",
     "output_type": "stream",
     "text": [
      "Loss, Model, Stats:\t0.575865509836656\t(-0.374289350720725, 0.6911148081720686, 0.01842609074994411, -0.04386867819529098, -0.1746797162593374, 0.14363860543371731, 0.07319758609158657, 0.379307496439588, 0.20130186020002294, 0.21816822359095545, 0.9457491941916547, 0.09295176213039376, 0.27268392074688286, 0.05405840510298003)\t{'Accuracy': 0.73, 'Recall': 0.768, 'Specificity': 0.716, 'Precision': 0.478, 'F1-Score': 0.589}\n",
      "\n"
     ]
    }
   ],
   "source": [
    "# Run the model on 3x upsampling\n",
    "result = run_model(upsampledRDD3, valProcessedRDD, nSteps = 30, learningRate = 0.6, verbose = False)\n",
    "print('Loss, Model, Stats:' + '\\t' + str(result[0]) + '\\t' + str(tuple(result[1])) + '\\t' + str(result[2]) + '\\n')"
   ]
  },
  {
   "cell_type": "markdown",
   "metadata": {},
   "source": [
    "It can seen with the above that upsampling positive values helps recall tremendously while the accuracy stays relatively constant. There is minor loss with a 3x unsampling. The specificity dips throughout though as upsampling increases however even at 3x upsampling the specificity is still at parity with recall. Therefore, it overall seems like we're rebalancing the algorithms ability to detect positive samples. The f1-score which is a uniformity metric between recall and precision also increases slightly showing measurable gains. Therefore, it is suggested that an upsampling of 3 is used."
   ]
  },
  {
   "cell_type": "markdown",
   "metadata": {},
   "source": [
    "#### Validating Using Gradient Boosted Trees"
   ]
  },
  {
   "cell_type": "code",
   "execution_count": 33,
   "metadata": {},
   "outputs": [
    {
     "name": "stdout",
     "output_type": "stream",
     "text": [
      "Data set as mean MLlib object\n"
     ]
    }
   ],
   "source": [
    "trainRDD = meanNormalizedRDD.map(lambda x: LabeledPoint(x[1], x[0]))\n",
    "testRDD = valProcessedRDD.map(lambda x: LabeledPoint(x[1], x[0]))\n",
    "print(\"Data set as mean MLlib object\")"
   ]
  },
  {
   "cell_type": "markdown",
   "metadata": {},
   "source": [
    "#### Gradient Boosting Tree Model\n",
    "\n",
    "In addition to logistic regression for model the click-through data, we also explored using decision trees, which we explored through leveraging the pyspark mllib libraries to train our models. Within mllib tree libraries, both random forest and gradient boosted tree ensemble methods were available, however our team decided to focus on using GBT because it is better at handling unbalanced datasets. The primary difference between the two is that random forest is a bagging method algorithm which means it doesn't focus on samples that for instance may have been heavily misclassified like a boosting algorithm would.\n",
    "\n",
    "Because the categorical features have been turned into ordinal bins and then regularized, no features were identified as categorical features. For hyperparameter tuning, we used the test data subset to do this, before running on the full dataset. With hyperparameter tuning, we adjusted for different number of trees, depth of trees, number of bins and learning rate. From these adjustments, we found the model defaults to still perform best (learning rate = 0.1, depth of trees = 3, number of bins = 32, number of trees = 100). For the loss function, logLoss was used since we are predicting classification data and not regression, which squared error and absolute error are more suited for. This also aligns with the loss for logistic regression."
   ]
  },
  {
   "cell_type": "code",
   "execution_count": 34,
   "metadata": {},
   "outputs": [],
   "source": [
    "# Using MLLib GradientBoostedTrees library, we generate a model \n",
    "# using our training data and tuned hyperparameters\n",
    "model = GradientBoostedTrees.trainClassifier(modelRDD, \n",
    "                                             categoricalFeaturesInfo={}, \n",
    "                                             loss=\"logLoss\", \n",
    "                                             numIterations=100, \n",
    "                                             learningRate=0.1, \n",
    "                                             maxDepth=3, \n",
    "                                             maxBins=32)"
   ]
  },
  {
   "cell_type": "code",
   "execution_count": 38,
   "metadata": {},
   "outputs": [
    {
     "name": "stdout",
     "output_type": "stream",
     "text": [
      "GradientBoostedTrees:\n",
      "Accuracy:  0.8125\n",
      "Precision:  0.9244147157190635\n",
      "Recall:  0.8406326034063261\n",
      "f1 Score: 0.8805352022937241\n"
     ]
    }
   ],
   "source": [
    "from pyspark.mllib.evaluation import MulticlassMetrics\n",
    "\n",
    "# Evaluation predictions\n",
    "\n",
    "predictions = model.predict(testRDD.map(lambda x: x.features))\n",
    "labelsAndPredictions = testRDD.map(lambda lp: lp.label).zip(predictions)\n",
    "testAcc = labelsAndPredictions.filter(lambda lp: lp[0] == lp[1]).count() / float(testRDD.count())\n",
    "\n",
    "metrics = MulticlassMetrics(labelsAndPredictions)\n",
    "\n",
    "# Evaluation Metrics\n",
    "cm=metrics.confusionMatrix().toArray()\n",
    "accuracy=(cm[0][0]+cm[1][1])/cm.sum()\n",
    "precision=(cm[0][0])/(cm[0][0]+cm[1][0])\n",
    "recall=(cm[0][0])/(cm[0][0]+cm[0][1])\n",
    "f1_score = 2 * (precision * recall) / (precision + recall)\n",
    "\n",
    "print(\"GradientBoostedTrees:\")\n",
    "print(\"Accuracy: \", accuracy)\n",
    "print(\"Precision: \", precision)\n",
    "print(\"Recall: \", recall)\n",
    "print(\"f1 Score:\", f1_score)"
   ]
  },
  {
   "cell_type": "markdown",
   "metadata": {},
   "source": [
    "Here, we see that gradient boosted trees out performs logistic regression in all regards. The metrics indicate that they are able to better differentiate positive and negative values. These results using an initial 10K dataset are encouraging. We proceed accordingly to run the full dataset using both algorithms. We briefly note our architecture as well and some performance considerations."
   ]
  },
  {
   "cell_type": "markdown",
   "metadata": {},
   "source": [
    "## Running Against All Data in the GCP Cluster:\n"
   ]
  },
  {
   "cell_type": "markdown",
   "metadata": {},
   "source": [
    "####                Note: This section content (Code & Output) is copied from the GCP notebook that was used to run on the dataproc cluster.\n"
   ]
  },
  {
   "cell_type": "raw",
   "metadata": {},
   "source": [
    "The cluster in the datproc was setup with the following configurations.\n",
    "\n",
    "Machine Type: n1-standard-16\n",
    "Number of Nodes:  6 nodes ( 2 Virtual Machines nodes  + 4 Preemptiable VMs)"
   ]
  },
  {
   "cell_type": "markdown",
   "metadata": {},
   "source": [
    "#### Data Loading"
   ]
  },
  {
   "cell_type": "markdown",
   "metadata": {},
   "source": [
    "The training data was initially downloaded and unzipped into the google bucket. "
   ]
  },
  {
   "cell_type": "code",
   "execution_count": null,
   "metadata": {},
   "outputs": [],
   "source": [
    "trainRDD = sc.textFile('gs://<bucket>/btrain.txt')\n",
    "sampleTrainRDD = trainRDD\n",
    "valRDD = sc.textFile('gs://<bucket>/valdata.txt')"
   ]
  },
  {
   "cell_type": "markdown",
   "metadata": {},
   "source": [
    "#### Data Preprocessing"
   ]
  },
  {
   "cell_type": "markdown",
   "metadata": {},
   "source": [
    "All the preprocessing we have done based on the EDA for feature selection was run on the full dataset by calling the below function."
   ]
  },
  {
   "cell_type": "code",
   "execution_count": 1,
   "metadata": {},
   "outputs": [],
   "source": [
    "# Note that this process is the same as above. Re-presented to show process consistency.\n",
    "def prepare_data(dataRDD):\n",
    "    dataRDD = dataRDD.map(lambda x: parse(x, 'test')).cache()\n",
    "    avg_list, max_list, min_list = makeAvgMaxMin(dataRDD)\n",
    "    dataRDD = replaceNoneWithMean(dataRDD, avg_list)\n",
    "    dataRDD = bin_convert(dataRDD, [15, 19, 21, 27, 30,31, 35, 36, 38], 100)\n",
    "    dataRDD = dataStaging(dataRDD, column_choices)\n",
    "    dataRDD = normalizeMean(dataRDD)\n",
    "    \n",
    "    return dataRDD"
   ]
  },
  {
   "cell_type": "code",
   "execution_count": null,
   "metadata": {},
   "outputs": [],
   "source": [
    "trainRDD = prepare_data(trainRDD)"
   ]
  },
  {
   "cell_type": "markdown",
   "metadata": {},
   "source": [
    "#### Performance Considerations"
   ]
  },
  {
   "cell_type": "markdown",
   "metadata": {},
   "source": [
    "##### Parquet Files Vs Text Files"
   ]
  },
  {
   "cell_type": "markdown",
   "metadata": {},
   "source": [
    "We have initially tested with the data in the text files. Then we converted the data files into a parquet file and we noticed significant performance improvements on the basic action such as counting the number of rows. Dataframe created from the parquet file seemed to be the highly performant than the RDD converted from the Dataframe which was created from the parquet file. Since we wanted to demonstrate the usage of the low level APIs such as RDDs , our algorithm was implemented using RDDs not using Dataframes. "
   ]
  },
  {
   "cell_type": "code",
   "execution_count": null,
   "metadata": {},
   "outputs": [],
   "source": [
    "workingRDD = trainRDD.map(parse).cache()\n",
    "trainDF = sqlContext.createDataFrame(workingRDD)\n",
    "trainDF.write.parquet('gs://<bucket>/ads.parquet')\n"
   ]
  },
  {
   "cell_type": "code",
   "execution_count": null,
   "metadata": {},
   "outputs": [],
   "source": [
    "data_parquet = spark.read.parquet(\"gs://<bucket>/ads.parquet\")\n",
    "data_rdd = data_parquet.rdd.map(list)"
   ]
  },
  {
   "cell_type": "code",
   "execution_count": null,
   "metadata": {},
   "outputs": [],
   "source": [
    "start = time.time()\n",
    "print(trainDF.count())\n",
    "print(f'... completed job in {time.time() - start} seconds.')"
   ]
  },
  {
   "cell_type": "raw",
   "metadata": {},
   "source": [
    "45840617\n",
    "... completed job in 12.715038776397705 seconds."
   ]
  },
  {
   "cell_type": "code",
   "execution_count": null,
   "metadata": {},
   "outputs": [],
   "source": [
    "start = time.time()\n",
    "print(data_parquet.count())\n",
    "print(f'... completed job in {time.time() - start} seconds.')\n",
    "\n",
    "start = time.time()\n",
    "print(data_rdd.count())\n",
    "print(f'... completed job in {time.time() - start} seconds.')"
   ]
  },
  {
   "cell_type": "raw",
   "metadata": {},
   "source": [
    "45840617\n",
    "... completed job in 0.5613348484039307 seconds.\n",
    "\n",
    "45840617\n",
    "... completed job in 1.401615858078003 seconds"
   ]
  },
  {
   "cell_type": "markdown",
   "metadata": {},
   "source": [
    "#### Caching & Object storing "
   ]
  },
  {
   "cell_type": "markdown",
   "metadata": {},
   "source": [
    "After all the pre-processing steps are done , we saved the data into pickle file in the bucket and reused it for multiple hyper parameter tuning. This way we didn't have to keep the cluster running for longer period and this helped us to fine tune the right model with the appropriate hyper-parameters. We also cached the data using .cache() after any major transformation. That helped to boost the performance instead of evaluating the lineage of all the transformations from the beginning every time."
   ]
  },
  {
   "cell_type": "code",
   "execution_count": null,
   "metadata": {},
   "outputs": [],
   "source": [
    "# THe code to save as pickle file\n",
    "trainRDD.saveAsPickleFile('gs://<bucket>/modelRDD.pickle', 6)"
   ]
  },
  {
   "cell_type": "code",
   "execution_count": null,
   "metadata": {},
   "outputs": [],
   "source": [
    "trainRDD = sc.pickleFile('gs://<bucket>/modelRDD.pickle')\n",
    "trainRDD = trainRDD.cache()"
   ]
  },
  {
   "cell_type": "markdown",
   "metadata": {},
   "source": [
    "#### Logistics Regression (GCP Run):\n",
    "\n",
    "With the insight seen from our prior run with 10 000 rows of data, we run logistic regression again on the full dataset."
   ]
  },
  {
   "cell_type": "code",
   "execution_count": null,
   "metadata": {},
   "outputs": [],
   "source": [
    "testRDD, trainRDD = trainRDD.randomSplit(weights=[0.2, 0.8], seed=1)\n",
    "\n",
    "result = run_model(trainRDD, testRDD, nSteps = 30, learningRate = 0.6, verbose = False)\n",
    "print('Loss, Model, Stats:' + '\\t' + str(result[0]) + '\\t' + str(tuple(result[1])) + '\\t' + str(result[2]) + '\\n')"
   ]
  },
  {
   "cell_type": "markdown",
   "metadata": {},
   "source": [
    "Loss, Model, Stats:    0.536658681618232    (-1.1210867873869728, 0.8637251669737724, 0.017576869179104223, 0.05426938571757589, -0.11888924059063082, 0.07350756742309478, 0.06381750556185158, 0.17260005118932126, 0.17288374042464336, 0.2231436227747079, 0.372095576500797, 0.08047750398824605, 0.2578600132298404, 0.03715062873595507)    {‘Accuracy’: 0.736, ‘Recall’: 0.125, ‘Specificity’: 0.942, ‘Precision’: 0.423, ‘F1-Score’: 0.193}"
   ]
  },
  {
   "cell_type": "code",
   "execution_count": null,
   "metadata": {},
   "outputs": [],
   "source": [
    "# Upsampling the full dataset as explained above.\n",
    "trainRDD2 = upsampling_dataset(trainRDD, 2)\n",
    "testRDD, trainRDD = trainRDD2.randomSplit(weights=[0.2, 0.8], seed=1)\n",
    "\n",
    "result = run_model(trainRDD, testRDD, nSteps = 30, learningRate = 0.6, verbose = False)\n",
    "print('Loss, Model, Stats:' + '\\t' + str(result[0]) + '\\t' + str(tuple(result[1])) + '\\t' + str(result[2]) + '\\n')"
   ]
  },
  {
   "cell_type": "raw",
   "metadata": {},
   "source": [
    "Loss, Model, Stats:\t0.6006231716602016\t(-0.7319545987308769, 0.864278595784178, 0.0035013764009212793, 0.03391309533181315, -0.10407091100585729, 0.06678628693157522, 0.06381339587189189, 0.15892297622178725, 0.16889864798423013, 0.24527059261270845, 0.3862081225466696, 0.07653712430028377, 0.25416867098846296, 0.029949382023627954)\t{'Accuracy': 0.682, 'Recall': 0.286, 'Specificity': 0.887, 'Precision': 0.566, 'F1-Score': 0.38}"
   ]
  },
  {
   "cell_type": "code",
   "execution_count": null,
   "metadata": {},
   "outputs": [],
   "source": [
    "trainRDD3 = upsampling_dataset(trainRDD, 3)\n",
    "\n",
    "testRDD, trainRDD = trainRDD3.randomSplit(weights=[0.2, 0.8], seed=1)\n",
    "\n",
    "result = run_model(trainRDD, testRDD, nSteps = 30, learningRate = 0.6, verbose = True)\n",
    "print('Loss, Model, Stats:' + '\\t' + str(result[0]) + '\\t' + str(tuple(result[1])) + '\\t' + str(result[2]) + '\\n')"
   ]
  },
  {
   "cell_type": "raw",
   "metadata": {},
   "source": [
    "BASELINE:  Loss = 1.217544093248852\n",
    "----------\n",
    "STEP: 5\n",
    "Loss: 0.9614987656162819\n",
    "Model: [0.791, 0.985, 0.835, 0.802, -0.108, 0.574, 0.035, 0.848, 0.73, 0.022, 0.663, 0.748, 0.813, 0.591]\n",
    "... completed job in 3713.976755142212 seconds.\n",
    "----------\n",
    "STEP: 10\n",
    "Loss: 0.8049320272872095\n",
    "Model: [0.587, 0.967, 0.665, 0.596, -0.172, 0.302, 0.058, 0.689, 0.504, 0.06, 0.461, 0.515, 0.626, 0.31]\n",
    "... completed job in 3380.513689517975 seconds.\n",
    "----------\n",
    "STEP: 15\n",
    "Loss: 0.7226412071856658\n",
    "Model: [0.424, 0.947, 0.495, 0.405, -0.187, 0.167, 0.069, 0.532, 0.347, 0.114, 0.381, 0.328, 0.474, 0.151]\n",
    "... completed job in 3370.358919620514 seconds.\n",
    "----------\n",
    "STEP: 20\n",
    "Loss: 0.6793854412662543\n",
    "Model: [0.314, 0.926, 0.331, 0.249, -0.169, 0.11, 0.071, 0.386, 0.255, 0.172, 0.37, 0.203, 0.37, 0.075]\n",
    "... completed job in 3393.35316491127 seconds.\n",
    "----------\n",
    "STEP: 25\n",
    "Loss: 0.6552117906612046\n",
    "Model: [0.246, 0.904, 0.184, 0.131, -0.136, 0.083, 0.069, 0.262, 0.203, 0.22, 0.382, 0.129, 0.303, 0.041]\n",
    "... completed job in 3408.5921268463135 seconds.\n",
    "----------\n",
    "STEP: 30\n",
    "Loss: 0.6417336454651168\n",
    "Model: [0.205, 0.882, 0.061, 0.046, -0.101, 0.064, 0.065, 0.164, 0.174, 0.255, 0.395, 0.089, 0.262, 0.025]\n",
    "... completed job in 3769.643208503723 seconds.\n",
    "Loss, Model, Stats:\t0.6417336454651168\t(0.20506565162704263, 0.8817041291379267, 0.060917617829810505, 0.045835292894660803, -0.101322557023075, 0.06383012745356532, 0.06491522001175311, 0.163807809884756, 0.174450073959213, 0.25517813512258647, 0.39505028449597585, 0.08930254906507443, 0.26188007459324025, 0.025231144357218897)\t{'Accuracy': 0.559, 'Recall': 0.776, 'Specificity': 0.447, 'Precision': 0.42, 'F1-Score': 0.545}"
   ]
  },
  {
   "cell_type": "markdown",
   "metadata": {},
   "source": [
    "#### Gardient Boosted Tree (GCP Run):"
   ]
  },
  {
   "cell_type": "code",
   "execution_count": null,
   "metadata": {},
   "outputs": [],
   "source": [
    "testRDD, trainRDD = trainRDD.randomSplit(weights=[0.2, 0.8], seed=1)"
   ]
  },
  {
   "cell_type": "code",
   "execution_count": null,
   "metadata": {},
   "outputs": [],
   "source": [
    "model = GradientBoostedTrees.trainClassifier(trainRDD, \n",
    "                                             categoricalFeaturesInfo={}, \n",
    "                                             loss=\"logLoss\", \n",
    "                                             numIterations=100, \n",
    "                                             learningRate=0.1, \n",
    "                                             maxDepth=3, \n",
    "                                             maxBins=32)"
   ]
  },
  {
   "cell_type": "code",
   "execution_count": null,
   "metadata": {},
   "outputs": [],
   "source": [
    "from pyspark.mllib.evaluation import MulticlassMetrics\n",
    "\n",
    "# Evaluation predictions\n",
    "\n",
    "predictions = model.predict(testRDD.map(lambda x: x.features))\n",
    "labelsAndPredictions = testRDD.map(lambda lp: lp.label).zip(predictions)\n",
    "testAcc = labelsAndPredictions.filter(lambda lp: lp[0] == lp[1]).count() / float(testRDD.count())\n",
    "\n",
    "metrics = MulticlassMetrics(labelsAndPredictions)\n",
    "\n",
    "# Evaluation Metrics\n",
    "cm=metrics.confusionMatrix().toArray()\n",
    "accuracy=(cm[0][0]+cm[1][1])/cm.sum()\n",
    "precision=(cm[0][0])/(cm[0][0]+cm[1][0])\n",
    "recall=(cm[0][0])/(cm[0][0]+cm[0][1])\n",
    "f1_score = 2 * (precision * recall) / (precision + recall)\n",
    "\n",
    "print(\"GradientBoostedTrees:\")\n",
    "print(\"Accuracy: \", accuracy)\n",
    "print(\"Precision: \", precision)\n",
    "print(\"Recall: \", recall)\n",
    "print(\"f1 score:\", f1_score)"
   ]
  },
  {
   "cell_type": "markdown",
   "metadata": {},
   "source": [
    "GradientBoostedTrees: \n",
    "\n",
    "Accuracy: 0.7661624563401778 \n",
    "\n",
    "Precision: 0.9491640848788224 \n",
    "\n",
    "Recall: 0.7826352776591122\n",
    "\n",
    "f1 score: 0.8578930252342352"
   ]
  },
  {
   "cell_type": "markdown",
   "metadata": {},
   "source": [
    "#### Observation and Discussion\n",
    "\n",
    "Having run both algorithms on the full dataset, there are a few interesting observations to note. On the topic of logistic regression, with 3x upsampling we achieved a model of:\n",
    "\n",
    "$z = 0.205 + 0.882C_{3} + 0.061C_{6} + 0.046C_{8} - 0.101C_{9} + 0.064C_{15} + 0.065C_{19} + 0.164C_{21} + 0.174C_{27} + 0.255C_{30} + 0.395C_{31} + 0.089C_{35} + 0.262C_{36} + 0.025C_{38}$\n",
    "\n",
    "where $z$ plugs into the sigmoid function as mentioned previously. Looking at this model it seems that columns 6, 8, 15, 19, 35, and 38 contribute relatively less weight to the overall prediction. Given our previous EDA, there doesn't seem to be any obvious trends that stand out between the coefficient of these variables and they may just represent fine-tuning variables. Its interesting to note as well that only column 9 shows a negative effect on the overall probability. This could mean that many of the provided features are features of some type of positive engagement. However, without further information, it is hard to say for certainty. Another interesting observation would be that if all these variables were null or 0, the bias term of 0.205 would lead to a predicted probability of about 0.445 of not clicking.\n",
    "\n",
    "For logistic regression we also saw performance statistics of {'Accuracy': 0.559, 'Recall': 0.776, 'Specificity': 0.447, 'Precision': 0.42, 'F1-Score': 0.545} when doing 3x upsampling. Compared to running on the 10K row dataset, these results are not as good. All metrics aside from recall are significantly lower though the effect of raising recall and f1-score and lowering accuracy, specificity, and precision persists. It seems that the metrics are particularly more sensitive with larger datasets. Note the difference when upsampling from 2x to 3x versus 1x to 2x. This is interesting though as it could suggest a point at which the number of certain values in certain features will start forcibly directing the probability towards a certain class. Looking at the equation from 2x upsampling\n",
    "\n",
    "$z = -0.732 + 0.864C_{3} + 0.004C_{6} + 0.034C_{8} - 0.104C_{9} + 0.067C_{15} + 0.064C_{19} + 0.159C_{21} + 0.169C_{27} + 0.245C_{30} + 0.386C_{31} + 0.077C_{35} + 0.254C_{36} + 0.030C_{38}$\n",
    "\n",
    "we see there are coefficients that change quite significantly. Notably, the bias term, which has a completely different sign and column 6 which increased by approximately 15x from 0.004 to 0.061 when doing 3x upsampling. Therefore we suggest that the feature represented by column 6 might have an underlying influence on CTR though strangely, the correlation plot doesn't seem to indicate any association. When upsampling, the change in the sign of the bias term may also indicate that we're capturing an unexpected new or related effect as well. Again, without knowing what these columns represent, it is hard to say for sure.  \n",
    "\n",
    "When comparing our metrics to gradient boosted trees, the tree seems to have greatly out-performed the logistic model. The accuracy is comparable to our logistic model with no unsampling but all other metrics seem to be much better on the tree versus. This is consistent with results mentioned in the article pointed out in the introduction. Since gradient boosting trees essentially \"parameterize\" on the trees themselves instead of a model's parameters like logistic regression, it is methodically improving at a higher level with each iteration versus logistic regression which improves by finding the local minima to which there could be many. As we were conducting our experiments, we did notice that the logistic model's initial parameters did make a difference. Another weakness of logistic regression could be in how we selected the features. We saw that many features are not normally distributed and that logging them might reduce the amount of data since many features contain lots of 0s. Trees avoid this because we are essentially setting a cutoff at each tree node to divide the data by. This makes trees much more dynamic in how it handles the feature space. As the evidence indicates, our thought here is that gradient boosting methods such as the boosted trees implemented here are more effective than logistic regression."
   ]
  },
  {
   "cell_type": "markdown",
   "metadata": {},
   "source": [
    "#### Application of Core Concepts\n",
    "\n",
    "1) Breiman Method and Binning: \n",
    "\n",
    "For our categorical features, we explored several approaches for how to best address this so that we could use this data in training our models. As the data is anonomized, we lacked significant context on what these features represented and how best to interpret them. In addition, several features were very diverse in the number of unique categories that they had. The method we decided to use was the Breiman method that would converting categorical data that we assumed are unordered into ordinal values based on each category's proportion of click-through rate. For example, if 80% of records labeled category A in a feature are positive click-throughs and 40% of records labeled category B are positive click-throughs, then we can say that A > B.  \n",
    "\n",
    "After ordering the category values for the categorical features we decided to use, we further decided to bin the values to shrink the dataset. This decision was made with the objective of reducing the noise from features with many unique categories. All category values were split into ordered groupings for each bin and our output data merged back into the dataset contained only the ordered bin number of the original category value. In this way, we were able to convert unordered categorical feature with many distinct values into an ordinal, simplified and smooth feature instead.\n",
    "\n",
    "2) Loss and Gradient Descent:\n",
    "\n",
    "In order to implement the logistic regression model, we had to leverage the concept of loss and the method of gradient descent. The loss of logistic regression is given by cross-entropy, a calculation which punishes unmatched predictions quite severely. It works by applying log to the sigmoid of the regressed expression and multiplying by the predicted result. In this case though the predicted result is binary and we don't want to eliminate the loss when the prediction is false therefore we subtract 1 from the result to get the opposing probability. The overall loss is then the average across all individual losses of each data point.\n",
    "\n",
    "Cross-entropy also has a simple derivative that can be applied. In its final form, each step is essentially the predicted probability minus the actual value summed together. This is then passed to all data points and multiplied by a learning rate. Gradient descent is an iterative process therefore this step is done until some type of convergence is seen.\n",
    "\n",
    "Here we optimized for both the learning rate and the number of iterations and found that on our training set, convergence happens after about 30 iterations at a learning rate of 0.6.\n",
    "\n",
    "3) Broadcasting:\n",
    "\n",
    "Throughout this project, there were several times when broadcasting had to be done. Broadcasting is a method where different partitions can access values even if those values are not directly stored in the partition. This is a huge benefit in terms of speed because otherwise values would have to copied into partitions as well which could be an expensive process depending on the size of the variable and the number of partitions there are.\n",
    "\n",
    "4) Scalability: \n",
    "\n",
    "One of the main challenges we noticed while building our model is the fact that including columns with many distinct values tends to slow down our algorithm quite significantly. This is likely because of the shuffling step in MapReduce. With more distinct values, spark would likely have to spend more time partitioning appropriately. Therefore depending on the resources available, this can be a significant drawback. \n",
    "\n",
    "To run the algorithms to run on the full data set , we used the GCP clusters with the techniques to cache the data , broadcast the smaller datasets and also store the objects to the external bucker for repeated runs.\n",
    "\n",
    "5) Normalization:\n",
    "\n",
    "One of the steps in our process is to do mean normalization. This involves taking the difference between each value, its respctive field average and dividing it by its respective field standard deviation. This is very important to do especially in cases of regression because otherwise, gradient descent may not be able to converge since the dimensions of the dataspace are not on the same scale. This causes local minima to potentially be missed as the descent iterates through.\n"
   ]
  },
  {
   "cell_type": "markdown",
   "metadata": {},
   "source": [
    "#### Conclusion\n",
    "\n",
    "To recap, we firstly made a training set of 10K values from the original dataset provided by criteo labs. We noticed that the data was filled with null values. This was potentially problematic for us since the modeling process and any potential algorithm we would use is based on the nature of the data. Therefore we wanted to investigate how prevalent this observation was. We found the overall phenomenon to vary between columns. Some did not contain any null values whereas others contained a lot such as column 12 with 77% and 35 with 76%. Next, we decided to look at how many distinct values there were. This was driven mostly by the dataset being comprised mostly of categorical features. As with null values, the results varied per column. Some were high while others were low. In terms of numerical variables, we also decided to look into each variables distribution and correlation. We ultimately went with a mixed bag approach ultimately selecting for variables that were low in multi-colinearity and decently diverse enough to capture some variance but not granular enough to make computation heavy. We also went with column 35 which had a high degree of nulls to add a degree of unconventionality. \n",
    "\n",
    "With these features, we ran both logistic regression and gradient boosted trees on both the sampled 10K dataset and the full dataset. For logistic regression, different levels of upsampling was also tried. We saw a trade-off happen between recall and specificity as the amount of positive samples increased. This effect was mild when running on the 10K dataset but was very pronounced in the full dataset. At first, these shifts were thought to be indicative of data points that were on the fringe of being predicted one class versus another as upsampling increased. However with the full dataset, it was noticed that some columns such as column 6 and the bias term had changed from upsampling versus other columns. This could be indicative of some meaning between this particular variable and the label though the initial correlation plot again, didn't show strong association. It would be interesting to further pursue this.\n",
    "\n",
    "Overall though, in our effort to compare models, it does seem that decision trees greatly outperformed logistic regression. We saw improvements in virtually every metric. Again, this is likely due to how trees handle the feature space and also that with a boosting algorithm, the trees get successively better with each iteration and this is usually seen relatedly as a weighted process. For problems of this nature, we can foresee gradient boosting trees as a more reliable method.\n",
    "\n",
    "In terms of future directions, there are several things that can be tried. In terms of feature selection, an L1 norm can be applied to reduce the number of numeric features. Another thing to possibly look at are interaction terms. For example, some of the variables could be different forms of quantity, which has to be multiplied by another feature to get the full picture. In terms of transformations, principal component analysis (PCA) can be used to generate fields with higher variance. This could in essence concentrate more variance into a smaller number of features. Also, the number of bins is another parameter that can be tuned. We chose 100 arbitrarily in this case. In terms of modeling, different loss functions and algorithms can be tried. For instance, stochastic gradient descent might get the algorithm to converge faster and mllib has a host of different algorithms to try. In all, there are many directions that one could take this effort further. Our work demonstrates one potential avenue this problem can be approached."
   ]
  },
  {
   "cell_type": "markdown",
   "metadata": {},
   "source": [
    "##### Appendix 1: Supplementary Info/Code Used"
   ]
  },
  {
   "cell_type": "code",
   "execution_count": null,
   "metadata": {},
   "outputs": [],
   "source": [
    "# Code 1:\n",
    "\"\"\"\n",
    "This was used to verify the contents of the column by checking the datatype\n",
    "\"\"\"\n",
    "test.dtypes"
   ]
  },
  {
   "cell_type": "code",
   "execution_count": null,
   "metadata": {},
   "outputs": [],
   "source": [
    "# Code 2:\n",
    "\"\"\"\n",
    "This was used to check that even if columns had the same number of nulls, the non-value values don't match up.\n",
    "\"\"\"\n",
    "test[[33,34]].sort_values(by=[33,34]).head(10)"
   ]
  },
  {
   "cell_type": "code",
   "execution_count": 135,
   "metadata": {
    "scrolled": false
   },
   "outputs": [
    {
     "name": "stderr",
     "output_type": "stream",
     "text": [
      "/opt/anaconda/lib/python3.6/site-packages/matplotlib/figure.py:457: UserWarning: matplotlib is currently using a non-GUI backend, so cannot show the figure\n",
      "  \"matplotlib is currently using a non-GUI backend, \"\n"
     ]
    },
    {
     "data": {
      "image/png": "[encoded data removed]",
      "text/plain": [
       "<Figure size 1080x720 with 15 Axes>"
      ]
     },
     "metadata": {},
     "output_type": "display_data"
    }
   ],
   "source": [
    "# Code 3:\n",
    "\"\"\"\n",
    "This line was ran to generate the logged version of numeric variables.\n",
    "\"\"\"\n",
    "hist_grid((test[list(range(1,14))]), 5, 3, log = True)"
   ]
  },
  {
   "cell_type": "code",
   "execution_count": null,
   "metadata": {},
   "outputs": [],
   "source": [
    "def distinctCounts(line): \n",
    "    for i in range(14, 40): \n",
    "        yield (i, line[i])\n",
    "\n",
    "distinct_list = workingRDD.flatMap(distinctCounts).distinct().map(lambda x: (x[0], 1)) \\\n",
    "                          .reduceByKey(lambda x,y: x+y).toDF().toPandas()\n",
    "\n",
    "distinct_list.columns = [\"Column Index\", \"Distinct Values\"]\n",
    "distinct_list.index = distinct_list[\"Column Index\"]\n",
    "distinct_list.drop([\"Column Index\"], 1, inplace=True)\n",
    "distinct_list.index.names = ['Feature Index']\n",
    "\n",
    "display(HTML(distinct_list.sort_index().transpose().to_html()))"
   ]
  },
  {
   "cell_type": "code",
   "execution_count": null,
   "metadata": {},
   "outputs": [],
   "source": [
    "def countNulls(line): \n",
    "    for i in range(14): \n",
    "        if line[i] is None: \n",
    "            yield ((i, 0), 1)\n",
    "        else: \n",
    "            yield ((i, 1), 1)\n",
    "            \n",
    "    for i in range(14, 40): \n",
    "        if line[i] == 0: \n",
    "            yield ((i, 0), 1)\n",
    "        else: \n",
    "            yield ((i, 1), 1)\n",
    "\n",
    "nRecords = workingRDD.count()\n",
    "null_info = workingRDD.flatMap(countNulls).reduceByKey(lambda x,y: x+y).collect()\n",
    "null_counts = [0.0 for i in range(40)]\n",
    "non_null_counts = [0.0 for i in range(40)]\n",
    "null_pct = [0.0 for i in range(40)]\n",
    "\n",
    "for thing in null_info: \n",
    "    if thing[0][1] == 0: \n",
    "        null_counts[thing[0][0]] = thing[1]\n",
    "        null_pct[thing[0][0]] = thing[1] / nRecords\n",
    "    else: \n",
    "        non_null_counts[thing[0][0]] = thing[1]\n",
    "        \n",
    "null_infos = pd.DataFrame({\"Non Null Counts\": non_null_counts, \"Null Counts\": null_counts, \"Null Percentage\": null_pct})\n",
    "null_infos.index.names = ['Feature Index']\n",
    "\n",
    "display(HTML(null_infos.transpose().to_html()))"
   ]
  },
  {
   "cell_type": "code",
   "execution_count": null,
   "metadata": {},
   "outputs": [],
   "source": [
    "## This code was used to find the optimal settings for logistic regression\n",
    "\n",
    "for x in range(1,11):\n",
    "    print(\"Running learning rate at \" + str(x*0.1))\n",
    "    out_data = run_model(meanNormalizedRDD, valProcessedRDD, nSteps = 20, learningRate = x*0.1, verbose = False)\n",
    "    print(str(x*0.1) + '\\t' + str(out_data[0]) + '\\t' + str(tuple(out_data[1])) + '\\t' + str(out_data[2]) + '\\n')\n",
    "\n",
    "\n",
    "for x in range(5,51,5):\n",
    "    print(\"Running step size at \" + str(x))\n",
    "    out_data = run_model(meanNormalizedRDD, valProcessedRDD, nSteps = x, learningRate = 0.6, verbose = False)\n",
    "    print(str(x) + '\\t' + str(out_data[0]) + '\\t' + str(tuple(out_data[1])) + '\\t' + str(out_data[2]) + '\\n')"
   ]
  },
  {
   "cell_type": "code",
   "execution_count": null,
   "metadata": {},
   "outputs": [],
   "source": [
    "# Functions used to conver categorical features into one-hot encodings\n",
    "\n",
    "# Use this after transformations to convert each record into one long list\n",
    "def unfurl_list (line): \n",
    "    output = []\n",
    "    for i in line: \n",
    "        if i is not list: \n",
    "            output.append(i)\n",
    "        else\n",
    "            output.extend(i)\n",
    "            \n",
    "    return output\n",
    "\n",
    "# This function is used in the one-hot mapper to conver the category value into a list of 0's and 1\n",
    "def val_to_list (line, index, distinct_list): \n",
    "    if line[index] is None: \n",
    "        return line\n",
    "    \n",
    "    new_list = [0] * len(distinct_list)\n",
    "    new_list[ distinct_list.index(line[index]) ] = 1\n",
    "    line[index] = new_list\n",
    "    \n",
    "    return line\n",
    "\n",
    "# Function called for each column\n",
    "def col_one_hot (dataRDD, index):\n",
    "    # Assumption: number of distinct values isn't crazy big\n",
    "    distinctRDD = dataRDD.map(lambda x: (x[index], 1)).distinct().count()\n",
    "    count = distinctRDD.count()\n",
    "    \n",
    "    if count < 1000:\n",
    "        # Gets distinct values ordered in list and converts to one-hot encoding\n",
    "        distinct_list = distinctRDD.sortByKey(True).map(lambda x: x[0]).collect()\n",
    "        oneHotRDD = dataRDD.map(lambda x: val_to_list(x, index, distinct_list))\n",
    "        \n",
    "        return oneHotRDD\n",
    "        \n",
    "    return dataRDD\n",
    "\n",
    "# Main function that will iterate over all features to be transformed\n",
    "def one_hot(dataRDD, index_list):\n",
    "    newRDD = dataRDD\n",
    "    for i in index_list: \n",
    "        newRDD = col_one_hot(newRDD, i)\n",
    "    \n",
    "    return newRDD"
   ]
  },
  {
   "cell_type": "markdown",
   "metadata": {},
   "source": [
    "##### Appendix 2: Code Junkyard (No insights drawn from these but kept here in case needed)"
   ]
  },
  {
   "cell_type": "code",
   "execution_count": null,
   "metadata": {},
   "outputs": [],
   "source": [
    "def fill_none_average(dataRDD):\n",
    "    \n",
    "    def calculate_sum(a,b):\n",
    "        for [a]\n",
    "    \n",
    "    avgRDD = dataRDD.reduce(lambda a,b: a+b)\n",
    "    \n",
    "    return avgavgRDD\n",
    "\n",
    "from pyspark.sql.functions import col, when\n",
    "\n",
    "def blank_as_null(x):\n",
    "    return when(x == \"\", x).otherwise(None)\n",
    "\n",
    "df = toyRDD.map(parse).toDF()\n",
    "dfWithEmptyReplaced = df.select(*(blank_as_null(col(c)).alias(c) for c in df.columns))\n",
    "\n",
    "dfWithEmptyReplaced.show()"
   ]
  },
  {
   "cell_type": "code",
   "execution_count": null,
   "metadata": {},
   "outputs": [],
   "source": [
    "def normalizeRange(dataRDD):\n",
    "    \n",
    "    def find_min(a,b):\n",
    "        out = tuple()\n",
    "        for i,v in enumerate(a):\n",
    "            if b[i] < v:\n",
    "                out += (b[i], )\n",
    "            else:\n",
    "                out += (v, )\n",
    "        \n",
    "        return a\n",
    "        \n",
    "    \n",
    "    featureMin = dataRDD.reduce(lambda a,b: find_min(a,b))\n",
    "    #featureMax = dataRDD.map(lambda x: x[0]).max()\n",
    "    \n",
    "    return featureMin\n",
    "    \n",
    "    #normedRDD = dataRDD.map(lambda x: ((x[0] - featureMeans)/featureStdev, x[1]))"
   ]
  },
  {
   "cell_type": "code",
   "execution_count": null,
   "metadata": {},
   "outputs": [],
   "source": [
    "workingRDD2 = logColumns(workingRDD)"
   ]
  },
  {
   "cell_type": "code",
   "execution_count": null,
   "metadata": {},
   "outputs": [],
   "source": [
    "def logColumns(dataRDD):\n",
    "    \n",
    "    def log_it(line):\n",
    "        for v in range(1,14):\n",
    "            line[v] = np.log(line[v])\n",
    "            \n",
    "        return line\n",
    "    \n",
    "    return dataRDD.map(lambda x: log_it(x))"
   ]
  },
  {
   "cell_type": "code",
   "execution_count": null,
   "metadata": {},
   "outputs": [],
   "source": [
    "def transform_numeric(line, columns_to_drop = None, columns_to_normalize = None, columns_to_log = None):\n",
    "    \n",
    "    \n",
    "    def columns_to_log(line, columns_to_log):\n",
    "        out_tuple = tuple()\n",
    "        \n",
    "        \n",
    "    \n",
    "    if column_list is None:\n",
    "        return np.nan_to_num(line[1:])\n",
    "    else:\n",
    "        return [np.nan_to_num(x) for i,x in enumerate(line) if i in column_list]\n",
    "\n",
    "column_list = [2,8]\n",
    "workingRDD = toyRDD.map(parse).map(lambda x: (np.array(get_columns(x, column_list)), x[0]))"
   ]
  }
 ],
 "metadata": {
  "kernelspec": {
   "display_name": "Python 3",
   "language": "python",
   "name": "python3"
  },
  "language_info": {
   "codemirror_mode": {
    "name": "ipython",
    "version": 3
   },
   "file_extension": ".py",
   "mimetype": "text/x-python",
   "name": "python",
   "nbconvert_exporter": "python",
   "pygments_lexer": "ipython3",
   "version": "3.7.3"
  }
 },
 "nbformat": 4,
 "nbformat_minor": 2
}
